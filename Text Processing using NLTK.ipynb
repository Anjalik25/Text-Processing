{
  "nbformat": 4,
  "nbformat_minor": 0,
  "metadata": {
    "kernelspec": {
      "display_name": "Python 3",
      "language": "python",
      "name": "python3"
    },
    "language_info": {
      "codemirror_mode": {
        "name": "ipython",
        "version": 3
      },
      "file_extension": ".py",
      "mimetype": "text/x-python",
      "name": "python",
      "nbconvert_exporter": "python",
      "pygments_lexer": "ipython3",
      "version": "3.7.3"
    },
    "colab": {
      "name": "Task 1.ipynb",
      "provenance": [],
      "collapsed_sections": []
    }
  },
  "cells": [
    {
      "cell_type": "code",
      "metadata": {
        "id": "tIU4HSvZ9tcL",
        "colab_type": "code",
        "colab": {}
      },
      "source": [
        "import nltk\n",
        "from nltk.tokenize import word_tokenize\n",
        "from nltk.tokenize import RegexpTokenizer\n",
        "from nltk.corpus import stopwords\n",
        "from nltk.stem import WordNetLemmatizer\n",
        "from nltk.stem import PorterStemmer"
      ],
      "execution_count": 0,
      "outputs": []
    },
    {
      "cell_type": "code",
      "metadata": {
        "id": "ijIGR1uc9tcP",
        "colab_type": "code",
        "colab": {}
      },
      "source": [
        "myfile = open(\"sonerhar.txt\", \"rt\")\n",
        "content = myfile.read()"
      ],
      "execution_count": 0,
      "outputs": []
    },
    {
      "cell_type": "code",
      "metadata": {
        "collapsed": true,
        "id": "yEXUPKdw9tcV",
        "colab_type": "code",
        "outputId": "7daea25a-fc72-418a-ac20-8536f0e794b8",
        "colab": {
          "base_uri": "https://localhost:8080/",
          "height": 53
        }
      },
      "source": [
        "content"
      ],
      "execution_count": 0,
      "outputs": [
        {
          "output_type": "execute_result",
          "data": {
            "text/plain": [
              "\"\\ufeffWest Bengal Form No. 3695\\nHIGH COURT FORM NOV) 1\\nFORM OF HEADING DEPOSITION\\nIn the Court of Addl. Sessions Judge, Fast Track Court,Kalna, Dist.Burdwan\\nPresent:- Ld. Sudipta Bhattacharjee, Addl. Dist. & Sessions Judge, F.T.C, Kalna.\\nDeposition of witness No. 1 For the Prosecution taken on oath/solemn affirmation on the 10 day of March, 2017\\nMy name is :- Noor Mahamad Sk.\\nson/wife of :- Late Sajahan Sk.\\nI reside at :- Ramkrishnapur, My age is 64 Years.\\nPolice station:- Purbasthali, District :- Burdwan.\\nMy occupation is :- day labour.\\nSonerhar Bibi was my daughter. She is no more in the world. She was given in marriage with Jamir Sk about 15 to 16 years ago. After the marriage she went to her matrimonial home and started residing there with her husband and other in-laws. During leading her matrimonial life she gave birth a son and a daughter who are aged about 7 years and 15 years respectively. She died at her matrimonial home due to burning. Around 5 years ago one day in the morning I came to know from their villagers the accused persons set fire upon my daughter and she was admitted at Protapnagar hospital and there after she was referred to Saktinagar hospital, Nadia, for treatment . Ultimately she came back from hospital after treatment and thereafter she died at her matrimonial home due to septisomia. After the incident I lodged a written complaint with the police officer of Purbasthali P.S, which was written by Sahad Ali Sk. There after I put my L.T.I, in the written complaint. All the accused persons are present in the court (Id on dock).\\nCross-Examination:- On behalf of the all accused persons:-\\nAfter hearing the news of burning upon my daughter I went to the matrimonial home of my daughter and there I heard that she caught fire while she was cooking. I do not know how she died. My daughter used to live her matrimonial home with her children and other in-laws. I have not heard any grievances from my daughter. I filed this case as per direction of villagers. At this stage I cannot say what was written in the complaint. I do not know how read and write.\\nNot a fact that I had not lodged any complaint. Not a fact that it is false that around 5 years ago one day in the morning I came to know from their villagers the .accused persons set fire upon my daughter and she was admitted at Protapnagar hospital and there after she was referred to Saktinagar hospital, Nadia, for treatment .\\n West Bengal Form No. 3695\\nHIGH COURT FORM NOV) 1\\nFORM OF HEADING DEPOSITION\\nIn the Court of Addl. Sessions Judge, Fast Track Court,Kalna, Dist.Burdwan.\\nSessions Case No. 78 Of 2015  Sessions Trial No. 7 Of 2017\\nPresent:- Ld. Sudipta Bhattacharjee, Addl. Dist. & Sessions Judge, F.T.C, Kalna. Deposition of witness No. 2 For the Prosecution taken on oath/solemn affirmation on the\\t10' day of March, 2017\\nMy name is :- Badsha Sk.\\nson/wife of :- Ajaher Sk.\\nI reside at :- Misbapur.\\tMy age is 34 Years.\\nPolice station:- Purbasthali\\tDistrict\\tBurdwan.\\nMy occupation is :- Driver.\\nI know Jamir Sk and his family members. They are present in the court (Id on dock). Around 5 years ago I carried Soneher Bibi with a burnt condition with my Maruti Omne van to Protapnagar hospital. There she was treated by a doctor. After arrival of hospital I came back from there. I knew Soneher Bibi and her children. I know all the accused persons as they are my co-villagers.\\nCross-Examination :- On behalf of the all accused persons  :-\\nAt hospital said Sonerher Bibi told the doctor that she caught fire while she was cooking. I do not anything about the incident.\\n\\nWest Bengal Form No. 3695\\nHIGH COURT FORM NO.(J) I\\nFORM OF HEADING DEPOSITION\\nIn the Court of Addl. Sessions Judge, Fast Track Court,Kalna, Dist.Burdwan.\\nSessions ase No 7$ Of 2015 Sessions Trial No. 7 Of 2017\\nPresent:- Ld. Sudipta Bhattacharjee, Addl. Dist. & Sessions Judge, F.T.C, Kalna. Deposition of witness No. 3 For the Prosecution taken on oath/solemn affirmation on the\\t10th day of March, 2017\\nMy name is :- Sarafat Sk.\\nson/wife of :- Late Tabjal Sk.\\nI reside at :- Atpara, Lakshipur\\tMy age is 51 Years.\\nPolice station:- Purbasthali\\tDistrict :- Burdwan.\\nMy occupation is :- Business.\\nI know Noor Mahamad Sk. As per his dictation I wrote a complaint. I put my signature in the complaint and said Noor Mahamad Sk also put his L.T.I, in the complaint. There were other people also at the time of writing the complaint. What the complainant stated to me I wrote the same. He was crying at the time. (Tendering the written complaint to him). This is the written complaint written by me. Let the kwritten complaint be marked as Ext.1. Cross-Examination :- On behalf of the all accused persons :-\\nI have no personal knowledge about the incident.\\n\\nWest Bengal Form No. 3695\\nHIGH COURT FORM NO.(J) 1\\nFORM OF HEADING DEPOSITION\\nIn the Court of Addl. Sessions Judge, Fast Track Court,Kalna, Dist.Burdwan.\\nSessions Case No. 78 Of 2015  Sessions Trial No. 7 Of 2017\\nPresent:- Ld. Sudipta Bhattacharjee, Addl. Dist. & Sessions Judge, F.T.C, KaIna.\\nDeposition of witness No. 4 For the Prosecution the\\t15' day of March, 2017\\nMy name is :- Anisur Rahaman Sk.\\nson/wife of :- Late Obed All Sk.\\nI reside at :- Misbapur.\\nPolice station:- Purbasthali\\nMy occupation is :- Cultivation.\\ttaken on oath/solemn affirmation on\\nMy age is 49 Years. District :- Burdwan.\\n\\nAround 4 or 5 years ago the wife of the accused Jamir Sk died due to burn injury. At the time of incident I was in the agricultural field. All the accused persons are my co-villagers. They are present in the court (Id on dock). I do not know how she sustained burn injury. I do not know the name of the wife of the accused.\\nCross-Examination :- By the Defence :- On behalf of all accused persons  :- \\nDeclined.\\n\\nWest Bengal Form No. 3695\\nHIGH COURT FORM NO.0) 1\\nFORM OF HEADING DEPOSITION\\nIn the Court of Addl. Sessions Judge, Fast Track Court,Kalna, Dist.Burdwan.\\nSessions Case No. 78 Of 2015  Sessions Trial No. 7 Of 2017\\nPresent:- Ld. Sudipta Bhattacharjee, Addl. Dist. & Sessions Judge, F.T.C, Kalna. Deposition of witness No. 5 For the Prosecution taken on oath/solemn affirmation on the\\t15th day of March, 2017\\nMy name is :- Samsur Sk.\\nson/wife of :- Late Mohir Sk.\\nI reside at :- Misbapur.\\tMy age is 41 Years.\\nPolice station:- Purbasthali\\tDistrict\\tBurdwan. \\nMy occupation is :- Day labour.\\nThe accused persons are my co-villagers. They are present in the court (Id on dock). Jamiar Sk the accused is my co-villager. He married with the daughter of Noor Md. Sk. 4 years ago she died due to burn injury. I do not know how she received burn injury.\\n\\nCross-Examination :- By the Defence :- On behalf of all accused persons  :-\\nDeclined.\\n \\n\\n\\nWest Bengal Form No. 3695\\nHIGH COURT FORM NO.(J) 1\\nFORM OF HEADING DEPOSITION\\nIn the Court of Addl. Sessions Judge, Fast Track Court,Kalna, Dist.Burdwan.\\nSessions Case No. 78 Of 2015  Sessions Trial No. 7 Of 2017\\nPresent:- Ld. Sudipta Bhattacharjee, Addl. Dist. & Sessions Judge, F.T.C, Kalna. Deposition of witness No. 6 For the Prosecution taken on oath/solemn affirmation on the\\t15th day of March, 2017\\nMy name is :- Moshruf Mondal.\\nson/wife of :- Late Doyem Mondal.\\nI reside at :- Misbapur.\\tMy age is 50 Years.\\nPolice station:- Purbasthali\\tDistrict :- Burdwan.\\nMy occupation is :- Cultivation.\\nI know the accused Jamir Sk. I know the other accused persons who were the relatives of the accused Jamir Sk. I know all the accused persons. They are present in the court (Id on dock). Jamir Sk married with the daughter of Noor Md. Sk. of village Ramkrishnapur. She led 12 years matrimonial life at her matrimonial home. About 4 years ago the wife of Jamir Sk died at her matrimonial home due to burn injury. I do not know how she sustained burn injury. She had three/ four children.\\nCross-Examination :- B1 the Defence :- On behalf of all accused persons  :-\\nDeclined.\\n\\nWest Bengal Form No. 3695\\nIn the Court of Addl. Sessions Judge, Fast Track Court,Kalna, Dist.Burdwan\\nSessions Case No. 78 Of 2015  Sessions Trial No. 7 Of 2017\\nPresent:- Ld. Sudipta Bhattacharjee, Addl. Dist. & Sessions Judge, F.T.C, Kalna. Deposition of witness No. 7 For the Prosecution taken on oath/solemn affirmation on the\\t16th day of March, 2017\\nMy name is Morshed Sk.\\nson/wife of Samsur Sk.\\nI reside at :- Misbapur.\\tMy age is 40 Years.\\nPolice station:- Purbasthali\\tDistrict :- Burdwan.\\nMy occupation is :- Cultivation.\\nI know the accused Jamir Sk. I also knew the wife of Jamir Sk. About 15 years ago Jamir sk married with Sonerhar Bibi and they have three children who are residing with Jamir sk. Around 4 years ago Sonerhar Bibi died due to burn injury. There was\\ndispute between them. However she died due to burn at her matrimonial home Cross-examination :- On behalf of all accused persons.  :-\\nSonerhar Bibi caught fire while she was cooking. I do not know what type of dispute they had. Probably it was a family dispute. Not a fact that there was no dispute between them.\\n\\nWest Bengal Form No. 3695\\nHIGH COURT FORM Na(J) 1\\nFORM OF HEADING DEPOSITION\\nIn the Court of Addl. Sessions Judge, Fast Track Court,Kalna, Dist.Burdvvan.\\nSessions Case No.78 Of 2015  Sessions Trial No. 7 Of 2017\\nPresent:- Ld. Sudipta Bhattacharjee, Addl. Dist. & Sessions Judge, F.T.C, Kalna. Deposition of witness No. 8 For the Prosecution taken on oath/solemn affirmation on the\\t18' day of March, 2017\\nMy name is :- Dolena Bibi.\\nson/wife of :- Noor Md. Sk.\\nI reside at :- Ramkrishna Pur.\\tMy age is 60 Years.\\nPolice station:- Purbasthali.\\tDistrict :- Burdwan.\\nMy occupation is :- House wife.\\nSonehar Bibi was my daughter. She was given in marriage with the accused Jamir Sk about 14 to 15 years ago. After the marriage she used to reside at her matrimonial home. In her wed lock she gave birth one son and three daughters. My daughter died due to burning about 4 to 5 years ago. At present the children of my daughter are residing with the accused Jamir Sk. She was subjected to torture at her matrimonial home. However she resided at her matrimonial home. I know all the accused persons. Three accused persons are present in the court (Id on dock). Had other accused persons present in the court I could have identified them.\\nCross-Examination :- On behalf of all accused persons  :-\\nNot a fact that she was subjected to torture at her matrimonial home. She caught fire hile she was cooking. The dispute between them related to domestic affairs. She more or less happy in her matrimonial home.\\n\\nWest Bengal Form No. 3695\\nHIGH COURT FORM NO.(J) 1\\nFORM OF HEADING DEPOSITION\\nIn the Court of Addl. Sessions Judge, Fast Track Court,Kalna, Dist.Burdwan.\\nSessions Case No.78 Of 2015 \\nSessions Trial No. 7 Of 2017\\nPresent:- Ld. Sudipta Bhattacharjee, Addl. Dist. & Sessions Judge, F.T.C, Kalna. Deposition of witness No. 9 For the Prosecution taken on oath/solemn affirmatio I on the\\t18th day of March, 2017\\nMy name is :- Naimuddin Mondal.\\nson/wife of :- Mossafar Mondal.\\nI reside at :- Ramkrishna Pur.\\tMy age is 27 Years.\\nPolice station:- Purbasthali.\\tDistrict :- Burdwan.\\nMy occupation is :- Cultivation.\\nI know Noor Md. Sk and her daughter Sonerhar Bibi. She married with Jamir Sk of Misbapur village about 15 to 16 years ago. After the marriage she used to reside at her matrimonial home and she gave birth three daughters and one son and they are residing at their father's house. Sonerhar Bibi died at her matrimonial home due to burn injury. After receiving burn injury she was admitted to hospital and there after she was again sent to her matrimonial home where she died.\\nCross-Examination :- On behalf of all accused persons :-\\nDeclined.\\n\""
            ]
          },
          "metadata": {
            "tags": []
          },
          "execution_count": 4
        }
      ]
    },
    {
      "cell_type": "code",
      "metadata": {
        "id": "5YkVloY69tcg",
        "colab_type": "code",
        "colab": {}
      },
      "source": [
        "content=content.lower()"
      ],
      "execution_count": 0,
      "outputs": []
    },
    {
      "cell_type": "code",
      "metadata": {
        "collapsed": true,
        "id": "SMvLUjFZ9tcm",
        "colab_type": "code",
        "outputId": "8b0a8cbd-23d1-4a4d-f03f-61245d718f82",
        "colab": {
          "base_uri": "https://localhost:8080/",
          "height": 87
        }
      },
      "source": [
        "nltk.download('punkt')\n",
        "print(word_tokenize(content))"
      ],
      "execution_count": 0,
      "outputs": [
        {
          "output_type": "stream",
          "text": [
            "[nltk_data] Downloading package punkt to /root/nltk_data...\n",
            "[nltk_data]   Unzipping tokenizers/punkt.zip.\n",
            "['\\ufeffwest', 'bengal', 'form', 'no', '.', '3695', 'high', 'court', 'form', 'nov', ')', '1', 'form', 'of', 'heading', 'deposition', 'in', 'the', 'court', 'of', 'addl', '.', 'sessions', 'judge', ',', 'fast', 'track', 'court', ',', 'kalna', ',', 'dist.burdwan', 'present', ':', '-', 'ld', '.', 'sudipta', 'bhattacharjee', ',', 'addl', '.', 'dist', '.', '&', 'sessions', 'judge', ',', 'f.t.c', ',', 'kalna', '.', 'deposition', 'of', 'witness', 'no', '.', '1', 'for', 'the', 'prosecution', 'taken', 'on', 'oath/solemn', 'affirmation', 'on', 'the', '10', 'day', 'of', 'march', ',', '2017', 'my', 'name', 'is', ':', '-', 'noor', 'mahamad', 'sk', '.', 'son/wife', 'of', ':', '-', 'late', 'sajahan', 'sk', '.', 'i', 'reside', 'at', ':', '-', 'ramkrishnapur', ',', 'my', 'age', 'is', '64', 'years', '.', 'police', 'station', ':', '-', 'purbasthali', ',', 'district', ':', '-', 'burdwan', '.', 'my', 'occupation', 'is', ':', '-', 'day', 'labour', '.', 'sonerhar', 'bibi', 'was', 'my', 'daughter', '.', 'she', 'is', 'no', 'more', 'in', 'the', 'world', '.', 'she', 'was', 'given', 'in', 'marriage', 'with', 'jamir', 'sk', 'about', '15', 'to', '16', 'years', 'ago', '.', 'after', 'the', 'marriage', 'she', 'went', 'to', 'her', 'matrimonial', 'home', 'and', 'started', 'residing', 'there', 'with', 'her', 'husband', 'and', 'other', 'in-laws', '.', 'during', 'leading', 'her', 'matrimonial', 'life', 'she', 'gave', 'birth', 'a', 'son', 'and', 'a', 'daughter', 'who', 'are', 'aged', 'about', '7', 'years', 'and', '15', 'years', 'respectively', '.', 'she', 'died', 'at', 'her', 'matrimonial', 'home', 'due', 'to', 'burning', '.', 'around', '5', 'years', 'ago', 'one', 'day', 'in', 'the', 'morning', 'i', 'came', 'to', 'know', 'from', 'their', 'villagers', 'the', 'accused', 'persons', 'set', 'fire', 'upon', 'my', 'daughter', 'and', 'she', 'was', 'admitted', 'at', 'protapnagar', 'hospital', 'and', 'there', 'after', 'she', 'was', 'referred', 'to', 'saktinagar', 'hospital', ',', 'nadia', ',', 'for', 'treatment', '.', 'ultimately', 'she', 'came', 'back', 'from', 'hospital', 'after', 'treatment', 'and', 'thereafter', 'she', 'died', 'at', 'her', 'matrimonial', 'home', 'due', 'to', 'septisomia', '.', 'after', 'the', 'incident', 'i', 'lodged', 'a', 'written', 'complaint', 'with', 'the', 'police', 'officer', 'of', 'purbasthali', 'p.s', ',', 'which', 'was', 'written', 'by', 'sahad', 'ali', 'sk', '.', 'there', 'after', 'i', 'put', 'my', 'l.t.i', ',', 'in', 'the', 'written', 'complaint', '.', 'all', 'the', 'accused', 'persons', 'are', 'present', 'in', 'the', 'court', '(', 'id', 'on', 'dock', ')', '.', 'cross-examination', ':', '-', 'on', 'behalf', 'of', 'the', 'all', 'accused', 'persons', ':', '-', 'after', 'hearing', 'the', 'news', 'of', 'burning', 'upon', 'my', 'daughter', 'i', 'went', 'to', 'the', 'matrimonial', 'home', 'of', 'my', 'daughter', 'and', 'there', 'i', 'heard', 'that', 'she', 'caught', 'fire', 'while', 'she', 'was', 'cooking', '.', 'i', 'do', 'not', 'know', 'how', 'she', 'died', '.', 'my', 'daughter', 'used', 'to', 'live', 'her', 'matrimonial', 'home', 'with', 'her', 'children', 'and', 'other', 'in-laws', '.', 'i', 'have', 'not', 'heard', 'any', 'grievances', 'from', 'my', 'daughter', '.', 'i', 'filed', 'this', 'case', 'as', 'per', 'direction', 'of', 'villagers', '.', 'at', 'this', 'stage', 'i', 'can', 'not', 'say', 'what', 'was', 'written', 'in', 'the', 'complaint', '.', 'i', 'do', 'not', 'know', 'how', 'read', 'and', 'write', '.', 'not', 'a', 'fact', 'that', 'i', 'had', 'not', 'lodged', 'any', 'complaint', '.', 'not', 'a', 'fact', 'that', 'it', 'is', 'false', 'that', 'around', '5', 'years', 'ago', 'one', 'day', 'in', 'the', 'morning', 'i', 'came', 'to', 'know', 'from', 'their', 'villagers', 'the', '.accused', 'persons', 'set', 'fire', 'upon', 'my', 'daughter', 'and', 'she', 'was', 'admitted', 'at', 'protapnagar', 'hospital', 'and', 'there', 'after', 'she', 'was', 'referred', 'to', 'saktinagar', 'hospital', ',', 'nadia', ',', 'for', 'treatment', '.', 'west', 'bengal', 'form', 'no', '.', '3695', 'high', 'court', 'form', 'nov', ')', '1', 'form', 'of', 'heading', 'deposition', 'in', 'the', 'court', 'of', 'addl', '.', 'sessions', 'judge', ',', 'fast', 'track', 'court', ',', 'kalna', ',', 'dist.burdwan', '.', 'sessions', 'case', 'no', '.', '78', 'of', '2015', 'sessions', 'trial', 'no', '.', '7', 'of', '2017', 'present', ':', '-', 'ld', '.', 'sudipta', 'bhattacharjee', ',', 'addl', '.', 'dist', '.', '&', 'sessions', 'judge', ',', 'f.t.c', ',', 'kalna', '.', 'deposition', 'of', 'witness', 'no', '.', '2', 'for', 'the', 'prosecution', 'taken', 'on', 'oath/solemn', 'affirmation', 'on', 'the', '10', \"'\", 'day', 'of', 'march', ',', '2017', 'my', 'name', 'is', ':', '-', 'badsha', 'sk', '.', 'son/wife', 'of', ':', '-', 'ajaher', 'sk', '.', 'i', 'reside', 'at', ':', '-', 'misbapur', '.', 'my', 'age', 'is', '34', 'years', '.', 'police', 'station', ':', '-', 'purbasthali', 'district', 'burdwan', '.', 'my', 'occupation', 'is', ':', '-', 'driver', '.', 'i', 'know', 'jamir', 'sk', 'and', 'his', 'family', 'members', '.', 'they', 'are', 'present', 'in', 'the', 'court', '(', 'id', 'on', 'dock', ')', '.', 'around', '5', 'years', 'ago', 'i', 'carried', 'soneher', 'bibi', 'with', 'a', 'burnt', 'condition', 'with', 'my', 'maruti', 'omne', 'van', 'to', 'protapnagar', 'hospital', '.', 'there', 'she', 'was', 'treated', 'by', 'a', 'doctor', '.', 'after', 'arrival', 'of', 'hospital', 'i', 'came', 'back', 'from', 'there', '.', 'i', 'knew', 'soneher', 'bibi', 'and', 'her', 'children', '.', 'i', 'know', 'all', 'the', 'accused', 'persons', 'as', 'they', 'are', 'my', 'co-villagers', '.', 'cross-examination', ':', '-', 'on', 'behalf', 'of', 'the', 'all', 'accused', 'persons', ':', '-', 'at', 'hospital', 'said', 'sonerher', 'bibi', 'told', 'the', 'doctor', 'that', 'she', 'caught', 'fire', 'while', 'she', 'was', 'cooking', '.', 'i', 'do', 'not', 'anything', 'about', 'the', 'incident', '.', 'west', 'bengal', 'form', 'no', '.', '3695', 'high', 'court', 'form', 'no', '.', '(', 'j', ')', 'i', 'form', 'of', 'heading', 'deposition', 'in', 'the', 'court', 'of', 'addl', '.', 'sessions', 'judge', ',', 'fast', 'track', 'court', ',', 'kalna', ',', 'dist.burdwan', '.', 'sessions', 'ase', 'no', '7', '$', 'of', '2015', 'sessions', 'trial', 'no', '.', '7', 'of', '2017', 'present', ':', '-', 'ld', '.', 'sudipta', 'bhattacharjee', ',', 'addl', '.', 'dist', '.', '&', 'sessions', 'judge', ',', 'f.t.c', ',', 'kalna', '.', 'deposition', 'of', 'witness', 'no', '.', '3', 'for', 'the', 'prosecution', 'taken', 'on', 'oath/solemn', 'affirmation', 'on', 'the', '10th', 'day', 'of', 'march', ',', '2017', 'my', 'name', 'is', ':', '-', 'sarafat', 'sk', '.', 'son/wife', 'of', ':', '-', 'late', 'tabjal', 'sk', '.', 'i', 'reside', 'at', ':', '-', 'atpara', ',', 'lakshipur', 'my', 'age', 'is', '51', 'years', '.', 'police', 'station', ':', '-', 'purbasthali', 'district', ':', '-', 'burdwan', '.', 'my', 'occupation', 'is', ':', '-', 'business', '.', 'i', 'know', 'noor', 'mahamad', 'sk', '.', 'as', 'per', 'his', 'dictation', 'i', 'wrote', 'a', 'complaint', '.', 'i', 'put', 'my', 'signature', 'in', 'the', 'complaint', 'and', 'said', 'noor', 'mahamad', 'sk', 'also', 'put', 'his', 'l.t.i', ',', 'in', 'the', 'complaint', '.', 'there', 'were', 'other', 'people', 'also', 'at', 'the', 'time', 'of', 'writing', 'the', 'complaint', '.', 'what', 'the', 'complainant', 'stated', 'to', 'me', 'i', 'wrote', 'the', 'same', '.', 'he', 'was', 'crying', 'at', 'the', 'time', '.', '(', 'tendering', 'the', 'written', 'complaint', 'to', 'him', ')', '.', 'this', 'is', 'the', 'written', 'complaint', 'written', 'by', 'me', '.', 'let', 'the', 'kwritten', 'complaint', 'be', 'marked', 'as', 'ext.1', '.', 'cross-examination', ':', '-', 'on', 'behalf', 'of', 'the', 'all', 'accused', 'persons', ':', '-', 'i', 'have', 'no', 'personal', 'knowledge', 'about', 'the', 'incident', '.', 'west', 'bengal', 'form', 'no', '.', '3695', 'high', 'court', 'form', 'no', '.', '(', 'j', ')', '1', 'form', 'of', 'heading', 'deposition', 'in', 'the', 'court', 'of', 'addl', '.', 'sessions', 'judge', ',', 'fast', 'track', 'court', ',', 'kalna', ',', 'dist.burdwan', '.', 'sessions', 'case', 'no', '.', '78', 'of', '2015', 'sessions', 'trial', 'no', '.', '7', 'of', '2017', 'present', ':', '-', 'ld', '.', 'sudipta', 'bhattacharjee', ',', 'addl', '.', 'dist', '.', '&', 'sessions', 'judge', ',', 'f.t.c', ',', 'kaina', '.', 'deposition', 'of', 'witness', 'no', '.', '4', 'for', 'the', 'prosecution', 'the', '15', \"'\", 'day', 'of', 'march', ',', '2017', 'my', 'name', 'is', ':', '-', 'anisur', 'rahaman', 'sk', '.', 'son/wife', 'of', ':', '-', 'late', 'obed', 'all', 'sk', '.', 'i', 'reside', 'at', ':', '-', 'misbapur', '.', 'police', 'station', ':', '-', 'purbasthali', 'my', 'occupation', 'is', ':', '-', 'cultivation', '.', 'taken', 'on', 'oath/solemn', 'affirmation', 'on', 'my', 'age', 'is', '49', 'years', '.', 'district', ':', '-', 'burdwan', '.', 'around', '4', 'or', '5', 'years', 'ago', 'the', 'wife', 'of', 'the', 'accused', 'jamir', 'sk', 'died', 'due', 'to', 'burn', 'injury', '.', 'at', 'the', 'time', 'of', 'incident', 'i', 'was', 'in', 'the', 'agricultural', 'field', '.', 'all', 'the', 'accused', 'persons', 'are', 'my', 'co-villagers', '.', 'they', 'are', 'present', 'in', 'the', 'court', '(', 'id', 'on', 'dock', ')', '.', 'i', 'do', 'not', 'know', 'how', 'she', 'sustained', 'burn', 'injury', '.', 'i', 'do', 'not', 'know', 'the', 'name', 'of', 'the', 'wife', 'of', 'the', 'accused', '.', 'cross-examination', ':', '-', 'by', 'the', 'defence', ':', '-', 'on', 'behalf', 'of', 'all', 'accused', 'persons', ':', '-', 'declined', '.', 'west', 'bengal', 'form', 'no', '.', '3695', 'high', 'court', 'form', 'no.0', ')', '1', 'form', 'of', 'heading', 'deposition', 'in', 'the', 'court', 'of', 'addl', '.', 'sessions', 'judge', ',', 'fast', 'track', 'court', ',', 'kalna', ',', 'dist.burdwan', '.', 'sessions', 'case', 'no', '.', '78', 'of', '2015', 'sessions', 'trial', 'no', '.', '7', 'of', '2017', 'present', ':', '-', 'ld', '.', 'sudipta', 'bhattacharjee', ',', 'addl', '.', 'dist', '.', '&', 'sessions', 'judge', ',', 'f.t.c', ',', 'kalna', '.', 'deposition', 'of', 'witness', 'no', '.', '5', 'for', 'the', 'prosecution', 'taken', 'on', 'oath/solemn', 'affirmation', 'on', 'the', '15th', 'day', 'of', 'march', ',', '2017', 'my', 'name', 'is', ':', '-', 'samsur', 'sk', '.', 'son/wife', 'of', ':', '-', 'late', 'mohir', 'sk', '.', 'i', 'reside', 'at', ':', '-', 'misbapur', '.', 'my', 'age', 'is', '41', 'years', '.', 'police', 'station', ':', '-', 'purbasthali', 'district', 'burdwan', '.', 'my', 'occupation', 'is', ':', '-', 'day', 'labour', '.', 'the', 'accused', 'persons', 'are', 'my', 'co-villagers', '.', 'they', 'are', 'present', 'in', 'the', 'court', '(', 'id', 'on', 'dock', ')', '.', 'jamiar', 'sk', 'the', 'accused', 'is', 'my', 'co-villager', '.', 'he', 'married', 'with', 'the', 'daughter', 'of', 'noor', 'md', '.', 'sk', '.', '4', 'years', 'ago', 'she', 'died', 'due', 'to', 'burn', 'injury', '.', 'i', 'do', 'not', 'know', 'how', 'she', 'received', 'burn', 'injury', '.', 'cross-examination', ':', '-', 'by', 'the', 'defence', ':', '-', 'on', 'behalf', 'of', 'all', 'accused', 'persons', ':', '-', 'declined', '.', 'west', 'bengal', 'form', 'no', '.', '3695', 'high', 'court', 'form', 'no', '.', '(', 'j', ')', '1', 'form', 'of', 'heading', 'deposition', 'in', 'the', 'court', 'of', 'addl', '.', 'sessions', 'judge', ',', 'fast', 'track', 'court', ',', 'kalna', ',', 'dist.burdwan', '.', 'sessions', 'case', 'no', '.', '78', 'of', '2015', 'sessions', 'trial', 'no', '.', '7', 'of', '2017', 'present', ':', '-', 'ld', '.', 'sudipta', 'bhattacharjee', ',', 'addl', '.', 'dist', '.', '&', 'sessions', 'judge', ',', 'f.t.c', ',', 'kalna', '.', 'deposition', 'of', 'witness', 'no', '.', '6', 'for', 'the', 'prosecution', 'taken', 'on', 'oath/solemn', 'affirmation', 'on', 'the', '15th', 'day', 'of', 'march', ',', '2017', 'my', 'name', 'is', ':', '-', 'moshruf', 'mondal', '.', 'son/wife', 'of', ':', '-', 'late', 'doyem', 'mondal', '.', 'i', 'reside', 'at', ':', '-', 'misbapur', '.', 'my', 'age', 'is', '50', 'years', '.', 'police', 'station', ':', '-', 'purbasthali', 'district', ':', '-', 'burdwan', '.', 'my', 'occupation', 'is', ':', '-', 'cultivation', '.', 'i', 'know', 'the', 'accused', 'jamir', 'sk', '.', 'i', 'know', 'the', 'other', 'accused', 'persons', 'who', 'were', 'the', 'relatives', 'of', 'the', 'accused', 'jamir', 'sk', '.', 'i', 'know', 'all', 'the', 'accused', 'persons', '.', 'they', 'are', 'present', 'in', 'the', 'court', '(', 'id', 'on', 'dock', ')', '.', 'jamir', 'sk', 'married', 'with', 'the', 'daughter', 'of', 'noor', 'md', '.', 'sk', '.', 'of', 'village', 'ramkrishnapur', '.', 'she', 'led', '12', 'years', 'matrimonial', 'life', 'at', 'her', 'matrimonial', 'home', '.', 'about', '4', 'years', 'ago', 'the', 'wife', 'of', 'jamir', 'sk', 'died', 'at', 'her', 'matrimonial', 'home', 'due', 'to', 'burn', 'injury', '.', 'i', 'do', 'not', 'know', 'how', 'she', 'sustained', 'burn', 'injury', '.', 'she', 'had', 'three/', 'four', 'children', '.', 'cross-examination', ':', '-', 'b1', 'the', 'defence', ':', '-', 'on', 'behalf', 'of', 'all', 'accused', 'persons', ':', '-', 'declined', '.', 'west', 'bengal', 'form', 'no', '.', '3695', 'in', 'the', 'court', 'of', 'addl', '.', 'sessions', 'judge', ',', 'fast', 'track', 'court', ',', 'kalna', ',', 'dist.burdwan', 'sessions', 'case', 'no', '.', '78', 'of', '2015', 'sessions', 'trial', 'no', '.', '7', 'of', '2017', 'present', ':', '-', 'ld', '.', 'sudipta', 'bhattacharjee', ',', 'addl', '.', 'dist', '.', '&', 'sessions', 'judge', ',', 'f.t.c', ',', 'kalna', '.', 'deposition', 'of', 'witness', 'no', '.', '7', 'for', 'the', 'prosecution', 'taken', 'on', 'oath/solemn', 'affirmation', 'on', 'the', '16th', 'day', 'of', 'march', ',', '2017', 'my', 'name', 'is', 'morshed', 'sk', '.', 'son/wife', 'of', 'samsur', 'sk', '.', 'i', 'reside', 'at', ':', '-', 'misbapur', '.', 'my', 'age', 'is', '40', 'years', '.', 'police', 'station', ':', '-', 'purbasthali', 'district', ':', '-', 'burdwan', '.', 'my', 'occupation', 'is', ':', '-', 'cultivation', '.', 'i', 'know', 'the', 'accused', 'jamir', 'sk', '.', 'i', 'also', 'knew', 'the', 'wife', 'of', 'jamir', 'sk', '.', 'about', '15', 'years', 'ago', 'jamir', 'sk', 'married', 'with', 'sonerhar', 'bibi', 'and', 'they', 'have', 'three', 'children', 'who', 'are', 'residing', 'with', 'jamir', 'sk', '.', 'around', '4', 'years', 'ago', 'sonerhar', 'bibi', 'died', 'due', 'to', 'burn', 'injury', '.', 'there', 'was', 'dispute', 'between', 'them', '.', 'however', 'she', 'died', 'due', 'to', 'burn', 'at', 'her', 'matrimonial', 'home', 'cross-examination', ':', '-', 'on', 'behalf', 'of', 'all', 'accused', 'persons', '.', ':', '-', 'sonerhar', 'bibi', 'caught', 'fire', 'while', 'she', 'was', 'cooking', '.', 'i', 'do', 'not', 'know', 'what', 'type', 'of', 'dispute', 'they', 'had', '.', 'probably', 'it', 'was', 'a', 'family', 'dispute', '.', 'not', 'a', 'fact', 'that', 'there', 'was', 'no', 'dispute', 'between', 'them', '.', 'west', 'bengal', 'form', 'no', '.', '3695', 'high', 'court', 'form', 'na', '(', 'j', ')', '1', 'form', 'of', 'heading', 'deposition', 'in', 'the', 'court', 'of', 'addl', '.', 'sessions', 'judge', ',', 'fast', 'track', 'court', ',', 'kalna', ',', 'dist.burdvvan', '.', 'sessions', 'case', 'no.78', 'of', '2015', 'sessions', 'trial', 'no', '.', '7', 'of', '2017', 'present', ':', '-', 'ld', '.', 'sudipta', 'bhattacharjee', ',', 'addl', '.', 'dist', '.', '&', 'sessions', 'judge', ',', 'f.t.c', ',', 'kalna', '.', 'deposition', 'of', 'witness', 'no', '.', '8', 'for', 'the', 'prosecution', 'taken', 'on', 'oath/solemn', 'affirmation', 'on', 'the', '18', \"'\", 'day', 'of', 'march', ',', '2017', 'my', 'name', 'is', ':', '-', 'dolena', 'bibi', '.', 'son/wife', 'of', ':', '-', 'noor', 'md', '.', 'sk', '.', 'i', 'reside', 'at', ':', '-', 'ramkrishna', 'pur', '.', 'my', 'age', 'is', '60', 'years', '.', 'police', 'station', ':', '-', 'purbasthali', '.', 'district', ':', '-', 'burdwan', '.', 'my', 'occupation', 'is', ':', '-', 'house', 'wife', '.', 'sonehar', 'bibi', 'was', 'my', 'daughter', '.', 'she', 'was', 'given', 'in', 'marriage', 'with', 'the', 'accused', 'jamir', 'sk', 'about', '14', 'to', '15', 'years', 'ago', '.', 'after', 'the', 'marriage', 'she', 'used', 'to', 'reside', 'at', 'her', 'matrimonial', 'home', '.', 'in', 'her', 'wed', 'lock', 'she', 'gave', 'birth', 'one', 'son', 'and', 'three', 'daughters', '.', 'my', 'daughter', 'died', 'due', 'to', 'burning', 'about', '4', 'to', '5', 'years', 'ago', '.', 'at', 'present', 'the', 'children', 'of', 'my', 'daughter', 'are', 'residing', 'with', 'the', 'accused', 'jamir', 'sk', '.', 'she', 'was', 'subjected', 'to', 'torture', 'at', 'her', 'matrimonial', 'home', '.', 'however', 'she', 'resided', 'at', 'her', 'matrimonial', 'home', '.', 'i', 'know', 'all', 'the', 'accused', 'persons', '.', 'three', 'accused', 'persons', 'are', 'present', 'in', 'the', 'court', '(', 'id', 'on', 'dock', ')', '.', 'had', 'other', 'accused', 'persons', 'present', 'in', 'the', 'court', 'i', 'could', 'have', 'identified', 'them', '.', 'cross-examination', ':', '-', 'on', 'behalf', 'of', 'all', 'accused', 'persons', ':', '-', 'not', 'a', 'fact', 'that', 'she', 'was', 'subjected', 'to', 'torture', 'at', 'her', 'matrimonial', 'home', '.', 'she', 'caught', 'fire', 'hile', 'she', 'was', 'cooking', '.', 'the', 'dispute', 'between', 'them', 'related', 'to', 'domestic', 'affairs', '.', 'she', 'more', 'or', 'less', 'happy', 'in', 'her', 'matrimonial', 'home', '.', 'west', 'bengal', 'form', 'no', '.', '3695', 'high', 'court', 'form', 'no', '.', '(', 'j', ')', '1', 'form', 'of', 'heading', 'deposition', 'in', 'the', 'court', 'of', 'addl', '.', 'sessions', 'judge', ',', 'fast', 'track', 'court', ',', 'kalna', ',', 'dist.burdwan', '.', 'sessions', 'case', 'no.78', 'of', '2015', 'sessions', 'trial', 'no', '.', '7', 'of', '2017', 'present', ':', '-', 'ld', '.', 'sudipta', 'bhattacharjee', ',', 'addl', '.', 'dist', '.', '&', 'sessions', 'judge', ',', 'f.t.c', ',', 'kalna', '.', 'deposition', 'of', 'witness', 'no', '.', '9', 'for', 'the', 'prosecution', 'taken', 'on', 'oath/solemn', 'affirmatio', 'i', 'on', 'the', '18th', 'day', 'of', 'march', ',', '2017', 'my', 'name', 'is', ':', '-', 'naimuddin', 'mondal', '.', 'son/wife', 'of', ':', '-', 'mossafar', 'mondal', '.', 'i', 'reside', 'at', ':', '-', 'ramkrishna', 'pur', '.', 'my', 'age', 'is', '27', 'years', '.', 'police', 'station', ':', '-', 'purbasthali', '.', 'district', ':', '-', 'burdwan', '.', 'my', 'occupation', 'is', ':', '-', 'cultivation', '.', 'i', 'know', 'noor', 'md', '.', 'sk', 'and', 'her', 'daughter', 'sonerhar', 'bibi', '.', 'she', 'married', 'with', 'jamir', 'sk', 'of', 'misbapur', 'village', 'about', '15', 'to', '16', 'years', 'ago', '.', 'after', 'the', 'marriage', 'she', 'used', 'to', 'reside', 'at', 'her', 'matrimonial', 'home', 'and', 'she', 'gave', 'birth', 'three', 'daughters', 'and', 'one', 'son', 'and', 'they', 'are', 'residing', 'at', 'their', 'father', \"'s\", 'house', '.', 'sonerhar', 'bibi', 'died', 'at', 'her', 'matrimonial', 'home', 'due', 'to', 'burn', 'injury', '.', 'after', 'receiving', 'burn', 'injury', 'she', 'was', 'admitted', 'to', 'hospital', 'and', 'there', 'after', 'she', 'was', 'again', 'sent', 'to', 'her', 'matrimonial', 'home', 'where', 'she', 'died', '.', 'cross-examination', ':', '-', 'on', 'behalf', 'of', 'all', 'accused', 'persons', ':', '-', 'declined', '.']\n"
          ],
          "name": "stdout"
        }
      ]
    },
    {
      "cell_type": "code",
      "metadata": {
        "collapsed": true,
        "id": "oGZut7pz9tcz",
        "colab_type": "code",
        "outputId": "39984f06-2695-4668-ec78-04a2e9f86248",
        "colab": {
          "base_uri": "https://localhost:8080/",
          "height": 53
        }
      },
      "source": [
        "#Removal of punctuation\n",
        "tokenizer = RegexpTokenizer(r'\\w+')\n",
        "result_pun = tokenizer.tokenize(content)\n",
        "print(result_pun)"
      ],
      "execution_count": 0,
      "outputs": [
        {
          "output_type": "stream",
          "text": [
            "['west', 'bengal', 'form', 'no', '3695', 'high', 'court', 'form', 'nov', '1', 'form', 'of', 'heading', 'deposition', 'in', 'the', 'court', 'of', 'addl', 'sessions', 'judge', 'fast', 'track', 'court', 'kalna', 'dist', 'burdwan', 'present', 'ld', 'sudipta', 'bhattacharjee', 'addl', 'dist', 'sessions', 'judge', 'f', 't', 'c', 'kalna', 'deposition', 'of', 'witness', 'no', '1', 'for', 'the', 'prosecution', 'taken', 'on', 'oath', 'solemn', 'affirmation', 'on', 'the', '10', 'day', 'of', 'march', '2017', 'my', 'name', 'is', 'noor', 'mahamad', 'sk', 'son', 'wife', 'of', 'late', 'sajahan', 'sk', 'i', 'reside', 'at', 'ramkrishnapur', 'my', 'age', 'is', '64', 'years', 'police', 'station', 'purbasthali', 'district', 'burdwan', 'my', 'occupation', 'is', 'day', 'labour', 'sonerhar', 'bibi', 'was', 'my', 'daughter', 'she', 'is', 'no', 'more', 'in', 'the', 'world', 'she', 'was', 'given', 'in', 'marriage', 'with', 'jamir', 'sk', 'about', '15', 'to', '16', 'years', 'ago', 'after', 'the', 'marriage', 'she', 'went', 'to', 'her', 'matrimonial', 'home', 'and', 'started', 'residing', 'there', 'with', 'her', 'husband', 'and', 'other', 'in', 'laws', 'during', 'leading', 'her', 'matrimonial', 'life', 'she', 'gave', 'birth', 'a', 'son', 'and', 'a', 'daughter', 'who', 'are', 'aged', 'about', '7', 'years', 'and', '15', 'years', 'respectively', 'she', 'died', 'at', 'her', 'matrimonial', 'home', 'due', 'to', 'burning', 'around', '5', 'years', 'ago', 'one', 'day', 'in', 'the', 'morning', 'i', 'came', 'to', 'know', 'from', 'their', 'villagers', 'the', 'accused', 'persons', 'set', 'fire', 'upon', 'my', 'daughter', 'and', 'she', 'was', 'admitted', 'at', 'protapnagar', 'hospital', 'and', 'there', 'after', 'she', 'was', 'referred', 'to', 'saktinagar', 'hospital', 'nadia', 'for', 'treatment', 'ultimately', 'she', 'came', 'back', 'from', 'hospital', 'after', 'treatment', 'and', 'thereafter', 'she', 'died', 'at', 'her', 'matrimonial', 'home', 'due', 'to', 'septisomia', 'after', 'the', 'incident', 'i', 'lodged', 'a', 'written', 'complaint', 'with', 'the', 'police', 'officer', 'of', 'purbasthali', 'p', 's', 'which', 'was', 'written', 'by', 'sahad', 'ali', 'sk', 'there', 'after', 'i', 'put', 'my', 'l', 't', 'i', 'in', 'the', 'written', 'complaint', 'all', 'the', 'accused', 'persons', 'are', 'present', 'in', 'the', 'court', 'id', 'on', 'dock', 'cross', 'examination', 'on', 'behalf', 'of', 'the', 'all', 'accused', 'persons', 'after', 'hearing', 'the', 'news', 'of', 'burning', 'upon', 'my', 'daughter', 'i', 'went', 'to', 'the', 'matrimonial', 'home', 'of', 'my', 'daughter', 'and', 'there', 'i', 'heard', 'that', 'she', 'caught', 'fire', 'while', 'she', 'was', 'cooking', 'i', 'do', 'not', 'know', 'how', 'she', 'died', 'my', 'daughter', 'used', 'to', 'live', 'her', 'matrimonial', 'home', 'with', 'her', 'children', 'and', 'other', 'in', 'laws', 'i', 'have', 'not', 'heard', 'any', 'grievances', 'from', 'my', 'daughter', 'i', 'filed', 'this', 'case', 'as', 'per', 'direction', 'of', 'villagers', 'at', 'this', 'stage', 'i', 'cannot', 'say', 'what', 'was', 'written', 'in', 'the', 'complaint', 'i', 'do', 'not', 'know', 'how', 'read', 'and', 'write', 'not', 'a', 'fact', 'that', 'i', 'had', 'not', 'lodged', 'any', 'complaint', 'not', 'a', 'fact', 'that', 'it', 'is', 'false', 'that', 'around', '5', 'years', 'ago', 'one', 'day', 'in', 'the', 'morning', 'i', 'came', 'to', 'know', 'from', 'their', 'villagers', 'the', 'accused', 'persons', 'set', 'fire', 'upon', 'my', 'daughter', 'and', 'she', 'was', 'admitted', 'at', 'protapnagar', 'hospital', 'and', 'there', 'after', 'she', 'was', 'referred', 'to', 'saktinagar', 'hospital', 'nadia', 'for', 'treatment', 'west', 'bengal', 'form', 'no', '3695', 'high', 'court', 'form', 'nov', '1', 'form', 'of', 'heading', 'deposition', 'in', 'the', 'court', 'of', 'addl', 'sessions', 'judge', 'fast', 'track', 'court', 'kalna', 'dist', 'burdwan', 'sessions', 'case', 'no', '78', 'of', '2015', 'sessions', 'trial', 'no', '7', 'of', '2017', 'present', 'ld', 'sudipta', 'bhattacharjee', 'addl', 'dist', 'sessions', 'judge', 'f', 't', 'c', 'kalna', 'deposition', 'of', 'witness', 'no', '2', 'for', 'the', 'prosecution', 'taken', 'on', 'oath', 'solemn', 'affirmation', 'on', 'the', '10', 'day', 'of', 'march', '2017', 'my', 'name', 'is', 'badsha', 'sk', 'son', 'wife', 'of', 'ajaher', 'sk', 'i', 'reside', 'at', 'misbapur', 'my', 'age', 'is', '34', 'years', 'police', 'station', 'purbasthali', 'district', 'burdwan', 'my', 'occupation', 'is', 'driver', 'i', 'know', 'jamir', 'sk', 'and', 'his', 'family', 'members', 'they', 'are', 'present', 'in', 'the', 'court', 'id', 'on', 'dock', 'around', '5', 'years', 'ago', 'i', 'carried', 'soneher', 'bibi', 'with', 'a', 'burnt', 'condition', 'with', 'my', 'maruti', 'omne', 'van', 'to', 'protapnagar', 'hospital', 'there', 'she', 'was', 'treated', 'by', 'a', 'doctor', 'after', 'arrival', 'of', 'hospital', 'i', 'came', 'back', 'from', 'there', 'i', 'knew', 'soneher', 'bibi', 'and', 'her', 'children', 'i', 'know', 'all', 'the', 'accused', 'persons', 'as', 'they', 'are', 'my', 'co', 'villagers', 'cross', 'examination', 'on', 'behalf', 'of', 'the', 'all', 'accused', 'persons', 'at', 'hospital', 'said', 'sonerher', 'bibi', 'told', 'the', 'doctor', 'that', 'she', 'caught', 'fire', 'while', 'she', 'was', 'cooking', 'i', 'do', 'not', 'anything', 'about', 'the', 'incident', 'west', 'bengal', 'form', 'no', '3695', 'high', 'court', 'form', 'no', 'j', 'i', 'form', 'of', 'heading', 'deposition', 'in', 'the', 'court', 'of', 'addl', 'sessions', 'judge', 'fast', 'track', 'court', 'kalna', 'dist', 'burdwan', 'sessions', 'ase', 'no', '7', 'of', '2015', 'sessions', 'trial', 'no', '7', 'of', '2017', 'present', 'ld', 'sudipta', 'bhattacharjee', 'addl', 'dist', 'sessions', 'judge', 'f', 't', 'c', 'kalna', 'deposition', 'of', 'witness', 'no', '3', 'for', 'the', 'prosecution', 'taken', 'on', 'oath', 'solemn', 'affirmation', 'on', 'the', '10th', 'day', 'of', 'march', '2017', 'my', 'name', 'is', 'sarafat', 'sk', 'son', 'wife', 'of', 'late', 'tabjal', 'sk', 'i', 'reside', 'at', 'atpara', 'lakshipur', 'my', 'age', 'is', '51', 'years', 'police', 'station', 'purbasthali', 'district', 'burdwan', 'my', 'occupation', 'is', 'business', 'i', 'know', 'noor', 'mahamad', 'sk', 'as', 'per', 'his', 'dictation', 'i', 'wrote', 'a', 'complaint', 'i', 'put', 'my', 'signature', 'in', 'the', 'complaint', 'and', 'said', 'noor', 'mahamad', 'sk', 'also', 'put', 'his', 'l', 't', 'i', 'in', 'the', 'complaint', 'there', 'were', 'other', 'people', 'also', 'at', 'the', 'time', 'of', 'writing', 'the', 'complaint', 'what', 'the', 'complainant', 'stated', 'to', 'me', 'i', 'wrote', 'the', 'same', 'he', 'was', 'crying', 'at', 'the', 'time', 'tendering', 'the', 'written', 'complaint', 'to', 'him', 'this', 'is', 'the', 'written', 'complaint', 'written', 'by', 'me', 'let', 'the', 'kwritten', 'complaint', 'be', 'marked', 'as', 'ext', '1', 'cross', 'examination', 'on', 'behalf', 'of', 'the', 'all', 'accused', 'persons', 'i', 'have', 'no', 'personal', 'knowledge', 'about', 'the', 'incident', 'west', 'bengal', 'form', 'no', '3695', 'high', 'court', 'form', 'no', 'j', '1', 'form', 'of', 'heading', 'deposition', 'in', 'the', 'court', 'of', 'addl', 'sessions', 'judge', 'fast', 'track', 'court', 'kalna', 'dist', 'burdwan', 'sessions', 'case', 'no', '78', 'of', '2015', 'sessions', 'trial', 'no', '7', 'of', '2017', 'present', 'ld', 'sudipta', 'bhattacharjee', 'addl', 'dist', 'sessions', 'judge', 'f', 't', 'c', 'kaina', 'deposition', 'of', 'witness', 'no', '4', 'for', 'the', 'prosecution', 'the', '15', 'day', 'of', 'march', '2017', 'my', 'name', 'is', 'anisur', 'rahaman', 'sk', 'son', 'wife', 'of', 'late', 'obed', 'all', 'sk', 'i', 'reside', 'at', 'misbapur', 'police', 'station', 'purbasthali', 'my', 'occupation', 'is', 'cultivation', 'taken', 'on', 'oath', 'solemn', 'affirmation', 'on', 'my', 'age', 'is', '49', 'years', 'district', 'burdwan', 'around', '4', 'or', '5', 'years', 'ago', 'the', 'wife', 'of', 'the', 'accused', 'jamir', 'sk', 'died', 'due', 'to', 'burn', 'injury', 'at', 'the', 'time', 'of', 'incident', 'i', 'was', 'in', 'the', 'agricultural', 'field', 'all', 'the', 'accused', 'persons', 'are', 'my', 'co', 'villagers', 'they', 'are', 'present', 'in', 'the', 'court', 'id', 'on', 'dock', 'i', 'do', 'not', 'know', 'how', 'she', 'sustained', 'burn', 'injury', 'i', 'do', 'not', 'know', 'the', 'name', 'of', 'the', 'wife', 'of', 'the', 'accused', 'cross', 'examination', 'by', 'the', 'defence', 'on', 'behalf', 'of', 'all', 'accused', 'persons', 'declined', 'west', 'bengal', 'form', 'no', '3695', 'high', 'court', 'form', 'no', '0', '1', 'form', 'of', 'heading', 'deposition', 'in', 'the', 'court', 'of', 'addl', 'sessions', 'judge', 'fast', 'track', 'court', 'kalna', 'dist', 'burdwan', 'sessions', 'case', 'no', '78', 'of', '2015', 'sessions', 'trial', 'no', '7', 'of', '2017', 'present', 'ld', 'sudipta', 'bhattacharjee', 'addl', 'dist', 'sessions', 'judge', 'f', 't', 'c', 'kalna', 'deposition', 'of', 'witness', 'no', '5', 'for', 'the', 'prosecution', 'taken', 'on', 'oath', 'solemn', 'affirmation', 'on', 'the', '15th', 'day', 'of', 'march', '2017', 'my', 'name', 'is', 'samsur', 'sk', 'son', 'wife', 'of', 'late', 'mohir', 'sk', 'i', 'reside', 'at', 'misbapur', 'my', 'age', 'is', '41', 'years', 'police', 'station', 'purbasthali', 'district', 'burdwan', 'my', 'occupation', 'is', 'day', 'labour', 'the', 'accused', 'persons', 'are', 'my', 'co', 'villagers', 'they', 'are', 'present', 'in', 'the', 'court', 'id', 'on', 'dock', 'jamiar', 'sk', 'the', 'accused', 'is', 'my', 'co', 'villager', 'he', 'married', 'with', 'the', 'daughter', 'of', 'noor', 'md', 'sk', '4', 'years', 'ago', 'she', 'died', 'due', 'to', 'burn', 'injury', 'i', 'do', 'not', 'know', 'how', 'she', 'received', 'burn', 'injury', 'cross', 'examination', 'by', 'the', 'defence', 'on', 'behalf', 'of', 'all', 'accused', 'persons', 'declined', 'west', 'bengal', 'form', 'no', '3695', 'high', 'court', 'form', 'no', 'j', '1', 'form', 'of', 'heading', 'deposition', 'in', 'the', 'court', 'of', 'addl', 'sessions', 'judge', 'fast', 'track', 'court', 'kalna', 'dist', 'burdwan', 'sessions', 'case', 'no', '78', 'of', '2015', 'sessions', 'trial', 'no', '7', 'of', '2017', 'present', 'ld', 'sudipta', 'bhattacharjee', 'addl', 'dist', 'sessions', 'judge', 'f', 't', 'c', 'kalna', 'deposition', 'of', 'witness', 'no', '6', 'for', 'the', 'prosecution', 'taken', 'on', 'oath', 'solemn', 'affirmation', 'on', 'the', '15th', 'day', 'of', 'march', '2017', 'my', 'name', 'is', 'moshruf', 'mondal', 'son', 'wife', 'of', 'late', 'doyem', 'mondal', 'i', 'reside', 'at', 'misbapur', 'my', 'age', 'is', '50', 'years', 'police', 'station', 'purbasthali', 'district', 'burdwan', 'my', 'occupation', 'is', 'cultivation', 'i', 'know', 'the', 'accused', 'jamir', 'sk', 'i', 'know', 'the', 'other', 'accused', 'persons', 'who', 'were', 'the', 'relatives', 'of', 'the', 'accused', 'jamir', 'sk', 'i', 'know', 'all', 'the', 'accused', 'persons', 'they', 'are', 'present', 'in', 'the', 'court', 'id', 'on', 'dock', 'jamir', 'sk', 'married', 'with', 'the', 'daughter', 'of', 'noor', 'md', 'sk', 'of', 'village', 'ramkrishnapur', 'she', 'led', '12', 'years', 'matrimonial', 'life', 'at', 'her', 'matrimonial', 'home', 'about', '4', 'years', 'ago', 'the', 'wife', 'of', 'jamir', 'sk', 'died', 'at', 'her', 'matrimonial', 'home', 'due', 'to', 'burn', 'injury', 'i', 'do', 'not', 'know', 'how', 'she', 'sustained', 'burn', 'injury', 'she', 'had', 'three', 'four', 'children', 'cross', 'examination', 'b1', 'the', 'defence', 'on', 'behalf', 'of', 'all', 'accused', 'persons', 'declined', 'west', 'bengal', 'form', 'no', '3695', 'in', 'the', 'court', 'of', 'addl', 'sessions', 'judge', 'fast', 'track', 'court', 'kalna', 'dist', 'burdwan', 'sessions', 'case', 'no', '78', 'of', '2015', 'sessions', 'trial', 'no', '7', 'of', '2017', 'present', 'ld', 'sudipta', 'bhattacharjee', 'addl', 'dist', 'sessions', 'judge', 'f', 't', 'c', 'kalna', 'deposition', 'of', 'witness', 'no', '7', 'for', 'the', 'prosecution', 'taken', 'on', 'oath', 'solemn', 'affirmation', 'on', 'the', '16th', 'day', 'of', 'march', '2017', 'my', 'name', 'is', 'morshed', 'sk', 'son', 'wife', 'of', 'samsur', 'sk', 'i', 'reside', 'at', 'misbapur', 'my', 'age', 'is', '40', 'years', 'police', 'station', 'purbasthali', 'district', 'burdwan', 'my', 'occupation', 'is', 'cultivation', 'i', 'know', 'the', 'accused', 'jamir', 'sk', 'i', 'also', 'knew', 'the', 'wife', 'of', 'jamir', 'sk', 'about', '15', 'years', 'ago', 'jamir', 'sk', 'married', 'with', 'sonerhar', 'bibi', 'and', 'they', 'have', 'three', 'children', 'who', 'are', 'residing', 'with', 'jamir', 'sk', 'around', '4', 'years', 'ago', 'sonerhar', 'bibi', 'died', 'due', 'to', 'burn', 'injury', 'there', 'was', 'dispute', 'between', 'them', 'however', 'she', 'died', 'due', 'to', 'burn', 'at', 'her', 'matrimonial', 'home', 'cross', 'examination', 'on', 'behalf', 'of', 'all', 'accused', 'persons', 'sonerhar', 'bibi', 'caught', 'fire', 'while', 'she', 'was', 'cooking', 'i', 'do', 'not', 'know', 'what', 'type', 'of', 'dispute', 'they', 'had', 'probably', 'it', 'was', 'a', 'family', 'dispute', 'not', 'a', 'fact', 'that', 'there', 'was', 'no', 'dispute', 'between', 'them', 'west', 'bengal', 'form', 'no', '3695', 'high', 'court', 'form', 'na', 'j', '1', 'form', 'of', 'heading', 'deposition', 'in', 'the', 'court', 'of', 'addl', 'sessions', 'judge', 'fast', 'track', 'court', 'kalna', 'dist', 'burdvvan', 'sessions', 'case', 'no', '78', 'of', '2015', 'sessions', 'trial', 'no', '7', 'of', '2017', 'present', 'ld', 'sudipta', 'bhattacharjee', 'addl', 'dist', 'sessions', 'judge', 'f', 't', 'c', 'kalna', 'deposition', 'of', 'witness', 'no', '8', 'for', 'the', 'prosecution', 'taken', 'on', 'oath', 'solemn', 'affirmation', 'on', 'the', '18', 'day', 'of', 'march', '2017', 'my', 'name', 'is', 'dolena', 'bibi', 'son', 'wife', 'of', 'noor', 'md', 'sk', 'i', 'reside', 'at', 'ramkrishna', 'pur', 'my', 'age', 'is', '60', 'years', 'police', 'station', 'purbasthali', 'district', 'burdwan', 'my', 'occupation', 'is', 'house', 'wife', 'sonehar', 'bibi', 'was', 'my', 'daughter', 'she', 'was', 'given', 'in', 'marriage', 'with', 'the', 'accused', 'jamir', 'sk', 'about', '14', 'to', '15', 'years', 'ago', 'after', 'the', 'marriage', 'she', 'used', 'to', 'reside', 'at', 'her', 'matrimonial', 'home', 'in', 'her', 'wed', 'lock', 'she', 'gave', 'birth', 'one', 'son', 'and', 'three', 'daughters', 'my', 'daughter', 'died', 'due', 'to', 'burning', 'about', '4', 'to', '5', 'years', 'ago', 'at', 'present', 'the', 'children', 'of', 'my', 'daughter', 'are', 'residing', 'with', 'the', 'accused', 'jamir', 'sk', 'she', 'was', 'subjected', 'to', 'torture', 'at', 'her', 'matrimonial', 'home', 'however', 'she', 'resided', 'at', 'her', 'matrimonial', 'home', 'i', 'know', 'all', 'the', 'accused', 'persons', 'three', 'accused', 'persons', 'are', 'present', 'in', 'the', 'court', 'id', 'on', 'dock', 'had', 'other', 'accused', 'persons', 'present', 'in', 'the', 'court', 'i', 'could', 'have', 'identified', 'them', 'cross', 'examination', 'on', 'behalf', 'of', 'all', 'accused', 'persons', 'not', 'a', 'fact', 'that', 'she', 'was', 'subjected', 'to', 'torture', 'at', 'her', 'matrimonial', 'home', 'she', 'caught', 'fire', 'hile', 'she', 'was', 'cooking', 'the', 'dispute', 'between', 'them', 'related', 'to', 'domestic', 'affairs', 'she', 'more', 'or', 'less', 'happy', 'in', 'her', 'matrimonial', 'home', 'west', 'bengal', 'form', 'no', '3695', 'high', 'court', 'form', 'no', 'j', '1', 'form', 'of', 'heading', 'deposition', 'in', 'the', 'court', 'of', 'addl', 'sessions', 'judge', 'fast', 'track', 'court', 'kalna', 'dist', 'burdwan', 'sessions', 'case', 'no', '78', 'of', '2015', 'sessions', 'trial', 'no', '7', 'of', '2017', 'present', 'ld', 'sudipta', 'bhattacharjee', 'addl', 'dist', 'sessions', 'judge', 'f', 't', 'c', 'kalna', 'deposition', 'of', 'witness', 'no', '9', 'for', 'the', 'prosecution', 'taken', 'on', 'oath', 'solemn', 'affirmatio', 'i', 'on', 'the', '18th', 'day', 'of', 'march', '2017', 'my', 'name', 'is', 'naimuddin', 'mondal', 'son', 'wife', 'of', 'mossafar', 'mondal', 'i', 'reside', 'at', 'ramkrishna', 'pur', 'my', 'age', 'is', '27', 'years', 'police', 'station', 'purbasthali', 'district', 'burdwan', 'my', 'occupation', 'is', 'cultivation', 'i', 'know', 'noor', 'md', 'sk', 'and', 'her', 'daughter', 'sonerhar', 'bibi', 'she', 'married', 'with', 'jamir', 'sk', 'of', 'misbapur', 'village', 'about', '15', 'to', '16', 'years', 'ago', 'after', 'the', 'marriage', 'she', 'used', 'to', 'reside', 'at', 'her', 'matrimonial', 'home', 'and', 'she', 'gave', 'birth', 'three', 'daughters', 'and', 'one', 'son', 'and', 'they', 'are', 'residing', 'at', 'their', 'father', 's', 'house', 'sonerhar', 'bibi', 'died', 'at', 'her', 'matrimonial', 'home', 'due', 'to', 'burn', 'injury', 'after', 'receiving', 'burn', 'injury', 'she', 'was', 'admitted', 'to', 'hospital', 'and', 'there', 'after', 'she', 'was', 'again', 'sent', 'to', 'her', 'matrimonial', 'home', 'where', 'she', 'died', 'cross', 'examination', 'on', 'behalf', 'of', 'all', 'accused', 'persons', 'declined']\n"
          ],
          "name": "stdout"
        }
      ]
    },
    {
      "cell_type": "code",
      "metadata": {
        "collapsed": true,
        "id": "YKty5XvS9tc7",
        "colab_type": "code",
        "outputId": "c3a98d45-f922-465f-d8de-a0498cb8cf8b",
        "colab": {
          "base_uri": "https://localhost:8080/",
          "height": 53
        }
      },
      "source": [
        "#Removal of Numbers\n",
        "result_no=result_pun\n",
        "result_no=[i for i in result_no if i.isalpha()]\n",
        "print(result_no)"
      ],
      "execution_count": 0,
      "outputs": [
        {
          "output_type": "stream",
          "text": [
            "['west', 'bengal', 'form', 'no', 'high', 'court', 'form', 'nov', 'form', 'of', 'heading', 'deposition', 'in', 'the', 'court', 'of', 'addl', 'sessions', 'judge', 'fast', 'track', 'court', 'kalna', 'dist', 'burdwan', 'present', 'ld', 'sudipta', 'bhattacharjee', 'addl', 'dist', 'sessions', 'judge', 'f', 't', 'c', 'kalna', 'deposition', 'of', 'witness', 'no', 'for', 'the', 'prosecution', 'taken', 'on', 'oath', 'solemn', 'affirmation', 'on', 'the', 'day', 'of', 'march', 'my', 'name', 'is', 'noor', 'mahamad', 'sk', 'son', 'wife', 'of', 'late', 'sajahan', 'sk', 'i', 'reside', 'at', 'ramkrishnapur', 'my', 'age', 'is', 'years', 'police', 'station', 'purbasthali', 'district', 'burdwan', 'my', 'occupation', 'is', 'day', 'labour', 'sonerhar', 'bibi', 'was', 'my', 'daughter', 'she', 'is', 'no', 'more', 'in', 'the', 'world', 'she', 'was', 'given', 'in', 'marriage', 'with', 'jamir', 'sk', 'about', 'to', 'years', 'ago', 'after', 'the', 'marriage', 'she', 'went', 'to', 'her', 'matrimonial', 'home', 'and', 'started', 'residing', 'there', 'with', 'her', 'husband', 'and', 'other', 'in', 'laws', 'during', 'leading', 'her', 'matrimonial', 'life', 'she', 'gave', 'birth', 'a', 'son', 'and', 'a', 'daughter', 'who', 'are', 'aged', 'about', 'years', 'and', 'years', 'respectively', 'she', 'died', 'at', 'her', 'matrimonial', 'home', 'due', 'to', 'burning', 'around', 'years', 'ago', 'one', 'day', 'in', 'the', 'morning', 'i', 'came', 'to', 'know', 'from', 'their', 'villagers', 'the', 'accused', 'persons', 'set', 'fire', 'upon', 'my', 'daughter', 'and', 'she', 'was', 'admitted', 'at', 'protapnagar', 'hospital', 'and', 'there', 'after', 'she', 'was', 'referred', 'to', 'saktinagar', 'hospital', 'nadia', 'for', 'treatment', 'ultimately', 'she', 'came', 'back', 'from', 'hospital', 'after', 'treatment', 'and', 'thereafter', 'she', 'died', 'at', 'her', 'matrimonial', 'home', 'due', 'to', 'septisomia', 'after', 'the', 'incident', 'i', 'lodged', 'a', 'written', 'complaint', 'with', 'the', 'police', 'officer', 'of', 'purbasthali', 'p', 's', 'which', 'was', 'written', 'by', 'sahad', 'ali', 'sk', 'there', 'after', 'i', 'put', 'my', 'l', 't', 'i', 'in', 'the', 'written', 'complaint', 'all', 'the', 'accused', 'persons', 'are', 'present', 'in', 'the', 'court', 'id', 'on', 'dock', 'cross', 'examination', 'on', 'behalf', 'of', 'the', 'all', 'accused', 'persons', 'after', 'hearing', 'the', 'news', 'of', 'burning', 'upon', 'my', 'daughter', 'i', 'went', 'to', 'the', 'matrimonial', 'home', 'of', 'my', 'daughter', 'and', 'there', 'i', 'heard', 'that', 'she', 'caught', 'fire', 'while', 'she', 'was', 'cooking', 'i', 'do', 'not', 'know', 'how', 'she', 'died', 'my', 'daughter', 'used', 'to', 'live', 'her', 'matrimonial', 'home', 'with', 'her', 'children', 'and', 'other', 'in', 'laws', 'i', 'have', 'not', 'heard', 'any', 'grievances', 'from', 'my', 'daughter', 'i', 'filed', 'this', 'case', 'as', 'per', 'direction', 'of', 'villagers', 'at', 'this', 'stage', 'i', 'cannot', 'say', 'what', 'was', 'written', 'in', 'the', 'complaint', 'i', 'do', 'not', 'know', 'how', 'read', 'and', 'write', 'not', 'a', 'fact', 'that', 'i', 'had', 'not', 'lodged', 'any', 'complaint', 'not', 'a', 'fact', 'that', 'it', 'is', 'false', 'that', 'around', 'years', 'ago', 'one', 'day', 'in', 'the', 'morning', 'i', 'came', 'to', 'know', 'from', 'their', 'villagers', 'the', 'accused', 'persons', 'set', 'fire', 'upon', 'my', 'daughter', 'and', 'she', 'was', 'admitted', 'at', 'protapnagar', 'hospital', 'and', 'there', 'after', 'she', 'was', 'referred', 'to', 'saktinagar', 'hospital', 'nadia', 'for', 'treatment', 'west', 'bengal', 'form', 'no', 'high', 'court', 'form', 'nov', 'form', 'of', 'heading', 'deposition', 'in', 'the', 'court', 'of', 'addl', 'sessions', 'judge', 'fast', 'track', 'court', 'kalna', 'dist', 'burdwan', 'sessions', 'case', 'no', 'of', 'sessions', 'trial', 'no', 'of', 'present', 'ld', 'sudipta', 'bhattacharjee', 'addl', 'dist', 'sessions', 'judge', 'f', 't', 'c', 'kalna', 'deposition', 'of', 'witness', 'no', 'for', 'the', 'prosecution', 'taken', 'on', 'oath', 'solemn', 'affirmation', 'on', 'the', 'day', 'of', 'march', 'my', 'name', 'is', 'badsha', 'sk', 'son', 'wife', 'of', 'ajaher', 'sk', 'i', 'reside', 'at', 'misbapur', 'my', 'age', 'is', 'years', 'police', 'station', 'purbasthali', 'district', 'burdwan', 'my', 'occupation', 'is', 'driver', 'i', 'know', 'jamir', 'sk', 'and', 'his', 'family', 'members', 'they', 'are', 'present', 'in', 'the', 'court', 'id', 'on', 'dock', 'around', 'years', 'ago', 'i', 'carried', 'soneher', 'bibi', 'with', 'a', 'burnt', 'condition', 'with', 'my', 'maruti', 'omne', 'van', 'to', 'protapnagar', 'hospital', 'there', 'she', 'was', 'treated', 'by', 'a', 'doctor', 'after', 'arrival', 'of', 'hospital', 'i', 'came', 'back', 'from', 'there', 'i', 'knew', 'soneher', 'bibi', 'and', 'her', 'children', 'i', 'know', 'all', 'the', 'accused', 'persons', 'as', 'they', 'are', 'my', 'co', 'villagers', 'cross', 'examination', 'on', 'behalf', 'of', 'the', 'all', 'accused', 'persons', 'at', 'hospital', 'said', 'sonerher', 'bibi', 'told', 'the', 'doctor', 'that', 'she', 'caught', 'fire', 'while', 'she', 'was', 'cooking', 'i', 'do', 'not', 'anything', 'about', 'the', 'incident', 'west', 'bengal', 'form', 'no', 'high', 'court', 'form', 'no', 'j', 'i', 'form', 'of', 'heading', 'deposition', 'in', 'the', 'court', 'of', 'addl', 'sessions', 'judge', 'fast', 'track', 'court', 'kalna', 'dist', 'burdwan', 'sessions', 'ase', 'no', 'of', 'sessions', 'trial', 'no', 'of', 'present', 'ld', 'sudipta', 'bhattacharjee', 'addl', 'dist', 'sessions', 'judge', 'f', 't', 'c', 'kalna', 'deposition', 'of', 'witness', 'no', 'for', 'the', 'prosecution', 'taken', 'on', 'oath', 'solemn', 'affirmation', 'on', 'the', 'day', 'of', 'march', 'my', 'name', 'is', 'sarafat', 'sk', 'son', 'wife', 'of', 'late', 'tabjal', 'sk', 'i', 'reside', 'at', 'atpara', 'lakshipur', 'my', 'age', 'is', 'years', 'police', 'station', 'purbasthali', 'district', 'burdwan', 'my', 'occupation', 'is', 'business', 'i', 'know', 'noor', 'mahamad', 'sk', 'as', 'per', 'his', 'dictation', 'i', 'wrote', 'a', 'complaint', 'i', 'put', 'my', 'signature', 'in', 'the', 'complaint', 'and', 'said', 'noor', 'mahamad', 'sk', 'also', 'put', 'his', 'l', 't', 'i', 'in', 'the', 'complaint', 'there', 'were', 'other', 'people', 'also', 'at', 'the', 'time', 'of', 'writing', 'the', 'complaint', 'what', 'the', 'complainant', 'stated', 'to', 'me', 'i', 'wrote', 'the', 'same', 'he', 'was', 'crying', 'at', 'the', 'time', 'tendering', 'the', 'written', 'complaint', 'to', 'him', 'this', 'is', 'the', 'written', 'complaint', 'written', 'by', 'me', 'let', 'the', 'kwritten', 'complaint', 'be', 'marked', 'as', 'ext', 'cross', 'examination', 'on', 'behalf', 'of', 'the', 'all', 'accused', 'persons', 'i', 'have', 'no', 'personal', 'knowledge', 'about', 'the', 'incident', 'west', 'bengal', 'form', 'no', 'high', 'court', 'form', 'no', 'j', 'form', 'of', 'heading', 'deposition', 'in', 'the', 'court', 'of', 'addl', 'sessions', 'judge', 'fast', 'track', 'court', 'kalna', 'dist', 'burdwan', 'sessions', 'case', 'no', 'of', 'sessions', 'trial', 'no', 'of', 'present', 'ld', 'sudipta', 'bhattacharjee', 'addl', 'dist', 'sessions', 'judge', 'f', 't', 'c', 'kaina', 'deposition', 'of', 'witness', 'no', 'for', 'the', 'prosecution', 'the', 'day', 'of', 'march', 'my', 'name', 'is', 'anisur', 'rahaman', 'sk', 'son', 'wife', 'of', 'late', 'obed', 'all', 'sk', 'i', 'reside', 'at', 'misbapur', 'police', 'station', 'purbasthali', 'my', 'occupation', 'is', 'cultivation', 'taken', 'on', 'oath', 'solemn', 'affirmation', 'on', 'my', 'age', 'is', 'years', 'district', 'burdwan', 'around', 'or', 'years', 'ago', 'the', 'wife', 'of', 'the', 'accused', 'jamir', 'sk', 'died', 'due', 'to', 'burn', 'injury', 'at', 'the', 'time', 'of', 'incident', 'i', 'was', 'in', 'the', 'agricultural', 'field', 'all', 'the', 'accused', 'persons', 'are', 'my', 'co', 'villagers', 'they', 'are', 'present', 'in', 'the', 'court', 'id', 'on', 'dock', 'i', 'do', 'not', 'know', 'how', 'she', 'sustained', 'burn', 'injury', 'i', 'do', 'not', 'know', 'the', 'name', 'of', 'the', 'wife', 'of', 'the', 'accused', 'cross', 'examination', 'by', 'the', 'defence', 'on', 'behalf', 'of', 'all', 'accused', 'persons', 'declined', 'west', 'bengal', 'form', 'no', 'high', 'court', 'form', 'no', 'form', 'of', 'heading', 'deposition', 'in', 'the', 'court', 'of', 'addl', 'sessions', 'judge', 'fast', 'track', 'court', 'kalna', 'dist', 'burdwan', 'sessions', 'case', 'no', 'of', 'sessions', 'trial', 'no', 'of', 'present', 'ld', 'sudipta', 'bhattacharjee', 'addl', 'dist', 'sessions', 'judge', 'f', 't', 'c', 'kalna', 'deposition', 'of', 'witness', 'no', 'for', 'the', 'prosecution', 'taken', 'on', 'oath', 'solemn', 'affirmation', 'on', 'the', 'day', 'of', 'march', 'my', 'name', 'is', 'samsur', 'sk', 'son', 'wife', 'of', 'late', 'mohir', 'sk', 'i', 'reside', 'at', 'misbapur', 'my', 'age', 'is', 'years', 'police', 'station', 'purbasthali', 'district', 'burdwan', 'my', 'occupation', 'is', 'day', 'labour', 'the', 'accused', 'persons', 'are', 'my', 'co', 'villagers', 'they', 'are', 'present', 'in', 'the', 'court', 'id', 'on', 'dock', 'jamiar', 'sk', 'the', 'accused', 'is', 'my', 'co', 'villager', 'he', 'married', 'with', 'the', 'daughter', 'of', 'noor', 'md', 'sk', 'years', 'ago', 'she', 'died', 'due', 'to', 'burn', 'injury', 'i', 'do', 'not', 'know', 'how', 'she', 'received', 'burn', 'injury', 'cross', 'examination', 'by', 'the', 'defence', 'on', 'behalf', 'of', 'all', 'accused', 'persons', 'declined', 'west', 'bengal', 'form', 'no', 'high', 'court', 'form', 'no', 'j', 'form', 'of', 'heading', 'deposition', 'in', 'the', 'court', 'of', 'addl', 'sessions', 'judge', 'fast', 'track', 'court', 'kalna', 'dist', 'burdwan', 'sessions', 'case', 'no', 'of', 'sessions', 'trial', 'no', 'of', 'present', 'ld', 'sudipta', 'bhattacharjee', 'addl', 'dist', 'sessions', 'judge', 'f', 't', 'c', 'kalna', 'deposition', 'of', 'witness', 'no', 'for', 'the', 'prosecution', 'taken', 'on', 'oath', 'solemn', 'affirmation', 'on', 'the', 'day', 'of', 'march', 'my', 'name', 'is', 'moshruf', 'mondal', 'son', 'wife', 'of', 'late', 'doyem', 'mondal', 'i', 'reside', 'at', 'misbapur', 'my', 'age', 'is', 'years', 'police', 'station', 'purbasthali', 'district', 'burdwan', 'my', 'occupation', 'is', 'cultivation', 'i', 'know', 'the', 'accused', 'jamir', 'sk', 'i', 'know', 'the', 'other', 'accused', 'persons', 'who', 'were', 'the', 'relatives', 'of', 'the', 'accused', 'jamir', 'sk', 'i', 'know', 'all', 'the', 'accused', 'persons', 'they', 'are', 'present', 'in', 'the', 'court', 'id', 'on', 'dock', 'jamir', 'sk', 'married', 'with', 'the', 'daughter', 'of', 'noor', 'md', 'sk', 'of', 'village', 'ramkrishnapur', 'she', 'led', 'years', 'matrimonial', 'life', 'at', 'her', 'matrimonial', 'home', 'about', 'years', 'ago', 'the', 'wife', 'of', 'jamir', 'sk', 'died', 'at', 'her', 'matrimonial', 'home', 'due', 'to', 'burn', 'injury', 'i', 'do', 'not', 'know', 'how', 'she', 'sustained', 'burn', 'injury', 'she', 'had', 'three', 'four', 'children', 'cross', 'examination', 'the', 'defence', 'on', 'behalf', 'of', 'all', 'accused', 'persons', 'declined', 'west', 'bengal', 'form', 'no', 'in', 'the', 'court', 'of', 'addl', 'sessions', 'judge', 'fast', 'track', 'court', 'kalna', 'dist', 'burdwan', 'sessions', 'case', 'no', 'of', 'sessions', 'trial', 'no', 'of', 'present', 'ld', 'sudipta', 'bhattacharjee', 'addl', 'dist', 'sessions', 'judge', 'f', 't', 'c', 'kalna', 'deposition', 'of', 'witness', 'no', 'for', 'the', 'prosecution', 'taken', 'on', 'oath', 'solemn', 'affirmation', 'on', 'the', 'day', 'of', 'march', 'my', 'name', 'is', 'morshed', 'sk', 'son', 'wife', 'of', 'samsur', 'sk', 'i', 'reside', 'at', 'misbapur', 'my', 'age', 'is', 'years', 'police', 'station', 'purbasthali', 'district', 'burdwan', 'my', 'occupation', 'is', 'cultivation', 'i', 'know', 'the', 'accused', 'jamir', 'sk', 'i', 'also', 'knew', 'the', 'wife', 'of', 'jamir', 'sk', 'about', 'years', 'ago', 'jamir', 'sk', 'married', 'with', 'sonerhar', 'bibi', 'and', 'they', 'have', 'three', 'children', 'who', 'are', 'residing', 'with', 'jamir', 'sk', 'around', 'years', 'ago', 'sonerhar', 'bibi', 'died', 'due', 'to', 'burn', 'injury', 'there', 'was', 'dispute', 'between', 'them', 'however', 'she', 'died', 'due', 'to', 'burn', 'at', 'her', 'matrimonial', 'home', 'cross', 'examination', 'on', 'behalf', 'of', 'all', 'accused', 'persons', 'sonerhar', 'bibi', 'caught', 'fire', 'while', 'she', 'was', 'cooking', 'i', 'do', 'not', 'know', 'what', 'type', 'of', 'dispute', 'they', 'had', 'probably', 'it', 'was', 'a', 'family', 'dispute', 'not', 'a', 'fact', 'that', 'there', 'was', 'no', 'dispute', 'between', 'them', 'west', 'bengal', 'form', 'no', 'high', 'court', 'form', 'na', 'j', 'form', 'of', 'heading', 'deposition', 'in', 'the', 'court', 'of', 'addl', 'sessions', 'judge', 'fast', 'track', 'court', 'kalna', 'dist', 'burdvvan', 'sessions', 'case', 'no', 'of', 'sessions', 'trial', 'no', 'of', 'present', 'ld', 'sudipta', 'bhattacharjee', 'addl', 'dist', 'sessions', 'judge', 'f', 't', 'c', 'kalna', 'deposition', 'of', 'witness', 'no', 'for', 'the', 'prosecution', 'taken', 'on', 'oath', 'solemn', 'affirmation', 'on', 'the', 'day', 'of', 'march', 'my', 'name', 'is', 'dolena', 'bibi', 'son', 'wife', 'of', 'noor', 'md', 'sk', 'i', 'reside', 'at', 'ramkrishna', 'pur', 'my', 'age', 'is', 'years', 'police', 'station', 'purbasthali', 'district', 'burdwan', 'my', 'occupation', 'is', 'house', 'wife', 'sonehar', 'bibi', 'was', 'my', 'daughter', 'she', 'was', 'given', 'in', 'marriage', 'with', 'the', 'accused', 'jamir', 'sk', 'about', 'to', 'years', 'ago', 'after', 'the', 'marriage', 'she', 'used', 'to', 'reside', 'at', 'her', 'matrimonial', 'home', 'in', 'her', 'wed', 'lock', 'she', 'gave', 'birth', 'one', 'son', 'and', 'three', 'daughters', 'my', 'daughter', 'died', 'due', 'to', 'burning', 'about', 'to', 'years', 'ago', 'at', 'present', 'the', 'children', 'of', 'my', 'daughter', 'are', 'residing', 'with', 'the', 'accused', 'jamir', 'sk', 'she', 'was', 'subjected', 'to', 'torture', 'at', 'her', 'matrimonial', 'home', 'however', 'she', 'resided', 'at', 'her', 'matrimonial', 'home', 'i', 'know', 'all', 'the', 'accused', 'persons', 'three', 'accused', 'persons', 'are', 'present', 'in', 'the', 'court', 'id', 'on', 'dock', 'had', 'other', 'accused', 'persons', 'present', 'in', 'the', 'court', 'i', 'could', 'have', 'identified', 'them', 'cross', 'examination', 'on', 'behalf', 'of', 'all', 'accused', 'persons', 'not', 'a', 'fact', 'that', 'she', 'was', 'subjected', 'to', 'torture', 'at', 'her', 'matrimonial', 'home', 'she', 'caught', 'fire', 'hile', 'she', 'was', 'cooking', 'the', 'dispute', 'between', 'them', 'related', 'to', 'domestic', 'affairs', 'she', 'more', 'or', 'less', 'happy', 'in', 'her', 'matrimonial', 'home', 'west', 'bengal', 'form', 'no', 'high', 'court', 'form', 'no', 'j', 'form', 'of', 'heading', 'deposition', 'in', 'the', 'court', 'of', 'addl', 'sessions', 'judge', 'fast', 'track', 'court', 'kalna', 'dist', 'burdwan', 'sessions', 'case', 'no', 'of', 'sessions', 'trial', 'no', 'of', 'present', 'ld', 'sudipta', 'bhattacharjee', 'addl', 'dist', 'sessions', 'judge', 'f', 't', 'c', 'kalna', 'deposition', 'of', 'witness', 'no', 'for', 'the', 'prosecution', 'taken', 'on', 'oath', 'solemn', 'affirmatio', 'i', 'on', 'the', 'day', 'of', 'march', 'my', 'name', 'is', 'naimuddin', 'mondal', 'son', 'wife', 'of', 'mossafar', 'mondal', 'i', 'reside', 'at', 'ramkrishna', 'pur', 'my', 'age', 'is', 'years', 'police', 'station', 'purbasthali', 'district', 'burdwan', 'my', 'occupation', 'is', 'cultivation', 'i', 'know', 'noor', 'md', 'sk', 'and', 'her', 'daughter', 'sonerhar', 'bibi', 'she', 'married', 'with', 'jamir', 'sk', 'of', 'misbapur', 'village', 'about', 'to', 'years', 'ago', 'after', 'the', 'marriage', 'she', 'used', 'to', 'reside', 'at', 'her', 'matrimonial', 'home', 'and', 'she', 'gave', 'birth', 'three', 'daughters', 'and', 'one', 'son', 'and', 'they', 'are', 'residing', 'at', 'their', 'father', 's', 'house', 'sonerhar', 'bibi', 'died', 'at', 'her', 'matrimonial', 'home', 'due', 'to', 'burn', 'injury', 'after', 'receiving', 'burn', 'injury', 'she', 'was', 'admitted', 'to', 'hospital', 'and', 'there', 'after', 'she', 'was', 'again', 'sent', 'to', 'her', 'matrimonial', 'home', 'where', 'she', 'died', 'cross', 'examination', 'on', 'behalf', 'of', 'all', 'accused', 'persons', 'declined']\n"
          ],
          "name": "stdout"
        }
      ]
    },
    {
      "cell_type": "code",
      "metadata": {
        "collapsed": true,
        "id": "YsbE8KND9tdA",
        "colab_type": "code",
        "outputId": "b39213d4-0dea-4597-d397-d4b84e511f7c",
        "colab": {
          "base_uri": "https://localhost:8080/",
          "height": 87
        }
      },
      "source": [
        "#Removal of stopwards\n",
        "nltk.download('stopwords')\n",
        "stop_words=set(stopwords.words('english'))\n",
        "result_sw=[i for i in result_no if not i in stop_words]\n",
        "print(result_sw)"
      ],
      "execution_count": 0,
      "outputs": [
        {
          "output_type": "stream",
          "text": [
            "[nltk_data] Downloading package stopwords to /root/nltk_data...\n",
            "[nltk_data]   Unzipping corpora/stopwords.zip.\n",
            "['west', 'bengal', 'form', 'high', 'court', 'form', 'nov', 'form', 'heading', 'deposition', 'court', 'addl', 'sessions', 'judge', 'fast', 'track', 'court', 'kalna', 'dist', 'burdwan', 'present', 'ld', 'sudipta', 'bhattacharjee', 'addl', 'dist', 'sessions', 'judge', 'f', 'c', 'kalna', 'deposition', 'witness', 'prosecution', 'taken', 'oath', 'solemn', 'affirmation', 'day', 'march', 'name', 'noor', 'mahamad', 'sk', 'son', 'wife', 'late', 'sajahan', 'sk', 'reside', 'ramkrishnapur', 'age', 'years', 'police', 'station', 'purbasthali', 'district', 'burdwan', 'occupation', 'day', 'labour', 'sonerhar', 'bibi', 'daughter', 'world', 'given', 'marriage', 'jamir', 'sk', 'years', 'ago', 'marriage', 'went', 'matrimonial', 'home', 'started', 'residing', 'husband', 'laws', 'leading', 'matrimonial', 'life', 'gave', 'birth', 'son', 'daughter', 'aged', 'years', 'years', 'respectively', 'died', 'matrimonial', 'home', 'due', 'burning', 'around', 'years', 'ago', 'one', 'day', 'morning', 'came', 'know', 'villagers', 'accused', 'persons', 'set', 'fire', 'upon', 'daughter', 'admitted', 'protapnagar', 'hospital', 'referred', 'saktinagar', 'hospital', 'nadia', 'treatment', 'ultimately', 'came', 'back', 'hospital', 'treatment', 'thereafter', 'died', 'matrimonial', 'home', 'due', 'septisomia', 'incident', 'lodged', 'written', 'complaint', 'police', 'officer', 'purbasthali', 'p', 'written', 'sahad', 'ali', 'sk', 'put', 'l', 'written', 'complaint', 'accused', 'persons', 'present', 'court', 'id', 'dock', 'cross', 'examination', 'behalf', 'accused', 'persons', 'hearing', 'news', 'burning', 'upon', 'daughter', 'went', 'matrimonial', 'home', 'daughter', 'heard', 'caught', 'fire', 'cooking', 'know', 'died', 'daughter', 'used', 'live', 'matrimonial', 'home', 'children', 'laws', 'heard', 'grievances', 'daughter', 'filed', 'case', 'per', 'direction', 'villagers', 'stage', 'cannot', 'say', 'written', 'complaint', 'know', 'read', 'write', 'fact', 'lodged', 'complaint', 'fact', 'false', 'around', 'years', 'ago', 'one', 'day', 'morning', 'came', 'know', 'villagers', 'accused', 'persons', 'set', 'fire', 'upon', 'daughter', 'admitted', 'protapnagar', 'hospital', 'referred', 'saktinagar', 'hospital', 'nadia', 'treatment', 'west', 'bengal', 'form', 'high', 'court', 'form', 'nov', 'form', 'heading', 'deposition', 'court', 'addl', 'sessions', 'judge', 'fast', 'track', 'court', 'kalna', 'dist', 'burdwan', 'sessions', 'case', 'sessions', 'trial', 'present', 'ld', 'sudipta', 'bhattacharjee', 'addl', 'dist', 'sessions', 'judge', 'f', 'c', 'kalna', 'deposition', 'witness', 'prosecution', 'taken', 'oath', 'solemn', 'affirmation', 'day', 'march', 'name', 'badsha', 'sk', 'son', 'wife', 'ajaher', 'sk', 'reside', 'misbapur', 'age', 'years', 'police', 'station', 'purbasthali', 'district', 'burdwan', 'occupation', 'driver', 'know', 'jamir', 'sk', 'family', 'members', 'present', 'court', 'id', 'dock', 'around', 'years', 'ago', 'carried', 'soneher', 'bibi', 'burnt', 'condition', 'maruti', 'omne', 'van', 'protapnagar', 'hospital', 'treated', 'doctor', 'arrival', 'hospital', 'came', 'back', 'knew', 'soneher', 'bibi', 'children', 'know', 'accused', 'persons', 'co', 'villagers', 'cross', 'examination', 'behalf', 'accused', 'persons', 'hospital', 'said', 'sonerher', 'bibi', 'told', 'doctor', 'caught', 'fire', 'cooking', 'anything', 'incident', 'west', 'bengal', 'form', 'high', 'court', 'form', 'j', 'form', 'heading', 'deposition', 'court', 'addl', 'sessions', 'judge', 'fast', 'track', 'court', 'kalna', 'dist', 'burdwan', 'sessions', 'ase', 'sessions', 'trial', 'present', 'ld', 'sudipta', 'bhattacharjee', 'addl', 'dist', 'sessions', 'judge', 'f', 'c', 'kalna', 'deposition', 'witness', 'prosecution', 'taken', 'oath', 'solemn', 'affirmation', 'day', 'march', 'name', 'sarafat', 'sk', 'son', 'wife', 'late', 'tabjal', 'sk', 'reside', 'atpara', 'lakshipur', 'age', 'years', 'police', 'station', 'purbasthali', 'district', 'burdwan', 'occupation', 'business', 'know', 'noor', 'mahamad', 'sk', 'per', 'dictation', 'wrote', 'complaint', 'put', 'signature', 'complaint', 'said', 'noor', 'mahamad', 'sk', 'also', 'put', 'l', 'complaint', 'people', 'also', 'time', 'writing', 'complaint', 'complainant', 'stated', 'wrote', 'crying', 'time', 'tendering', 'written', 'complaint', 'written', 'complaint', 'written', 'let', 'kwritten', 'complaint', 'marked', 'ext', 'cross', 'examination', 'behalf', 'accused', 'persons', 'personal', 'knowledge', 'incident', 'west', 'bengal', 'form', 'high', 'court', 'form', 'j', 'form', 'heading', 'deposition', 'court', 'addl', 'sessions', 'judge', 'fast', 'track', 'court', 'kalna', 'dist', 'burdwan', 'sessions', 'case', 'sessions', 'trial', 'present', 'ld', 'sudipta', 'bhattacharjee', 'addl', 'dist', 'sessions', 'judge', 'f', 'c', 'kaina', 'deposition', 'witness', 'prosecution', 'day', 'march', 'name', 'anisur', 'rahaman', 'sk', 'son', 'wife', 'late', 'obed', 'sk', 'reside', 'misbapur', 'police', 'station', 'purbasthali', 'occupation', 'cultivation', 'taken', 'oath', 'solemn', 'affirmation', 'age', 'years', 'district', 'burdwan', 'around', 'years', 'ago', 'wife', 'accused', 'jamir', 'sk', 'died', 'due', 'burn', 'injury', 'time', 'incident', 'agricultural', 'field', 'accused', 'persons', 'co', 'villagers', 'present', 'court', 'id', 'dock', 'know', 'sustained', 'burn', 'injury', 'know', 'name', 'wife', 'accused', 'cross', 'examination', 'defence', 'behalf', 'accused', 'persons', 'declined', 'west', 'bengal', 'form', 'high', 'court', 'form', 'form', 'heading', 'deposition', 'court', 'addl', 'sessions', 'judge', 'fast', 'track', 'court', 'kalna', 'dist', 'burdwan', 'sessions', 'case', 'sessions', 'trial', 'present', 'ld', 'sudipta', 'bhattacharjee', 'addl', 'dist', 'sessions', 'judge', 'f', 'c', 'kalna', 'deposition', 'witness', 'prosecution', 'taken', 'oath', 'solemn', 'affirmation', 'day', 'march', 'name', 'samsur', 'sk', 'son', 'wife', 'late', 'mohir', 'sk', 'reside', 'misbapur', 'age', 'years', 'police', 'station', 'purbasthali', 'district', 'burdwan', 'occupation', 'day', 'labour', 'accused', 'persons', 'co', 'villagers', 'present', 'court', 'id', 'dock', 'jamiar', 'sk', 'accused', 'co', 'villager', 'married', 'daughter', 'noor', 'md', 'sk', 'years', 'ago', 'died', 'due', 'burn', 'injury', 'know', 'received', 'burn', 'injury', 'cross', 'examination', 'defence', 'behalf', 'accused', 'persons', 'declined', 'west', 'bengal', 'form', 'high', 'court', 'form', 'j', 'form', 'heading', 'deposition', 'court', 'addl', 'sessions', 'judge', 'fast', 'track', 'court', 'kalna', 'dist', 'burdwan', 'sessions', 'case', 'sessions', 'trial', 'present', 'ld', 'sudipta', 'bhattacharjee', 'addl', 'dist', 'sessions', 'judge', 'f', 'c', 'kalna', 'deposition', 'witness', 'prosecution', 'taken', 'oath', 'solemn', 'affirmation', 'day', 'march', 'name', 'moshruf', 'mondal', 'son', 'wife', 'late', 'doyem', 'mondal', 'reside', 'misbapur', 'age', 'years', 'police', 'station', 'purbasthali', 'district', 'burdwan', 'occupation', 'cultivation', 'know', 'accused', 'jamir', 'sk', 'know', 'accused', 'persons', 'relatives', 'accused', 'jamir', 'sk', 'know', 'accused', 'persons', 'present', 'court', 'id', 'dock', 'jamir', 'sk', 'married', 'daughter', 'noor', 'md', 'sk', 'village', 'ramkrishnapur', 'led', 'years', 'matrimonial', 'life', 'matrimonial', 'home', 'years', 'ago', 'wife', 'jamir', 'sk', 'died', 'matrimonial', 'home', 'due', 'burn', 'injury', 'know', 'sustained', 'burn', 'injury', 'three', 'four', 'children', 'cross', 'examination', 'defence', 'behalf', 'accused', 'persons', 'declined', 'west', 'bengal', 'form', 'court', 'addl', 'sessions', 'judge', 'fast', 'track', 'court', 'kalna', 'dist', 'burdwan', 'sessions', 'case', 'sessions', 'trial', 'present', 'ld', 'sudipta', 'bhattacharjee', 'addl', 'dist', 'sessions', 'judge', 'f', 'c', 'kalna', 'deposition', 'witness', 'prosecution', 'taken', 'oath', 'solemn', 'affirmation', 'day', 'march', 'name', 'morshed', 'sk', 'son', 'wife', 'samsur', 'sk', 'reside', 'misbapur', 'age', 'years', 'police', 'station', 'purbasthali', 'district', 'burdwan', 'occupation', 'cultivation', 'know', 'accused', 'jamir', 'sk', 'also', 'knew', 'wife', 'jamir', 'sk', 'years', 'ago', 'jamir', 'sk', 'married', 'sonerhar', 'bibi', 'three', 'children', 'residing', 'jamir', 'sk', 'around', 'years', 'ago', 'sonerhar', 'bibi', 'died', 'due', 'burn', 'injury', 'dispute', 'however', 'died', 'due', 'burn', 'matrimonial', 'home', 'cross', 'examination', 'behalf', 'accused', 'persons', 'sonerhar', 'bibi', 'caught', 'fire', 'cooking', 'know', 'type', 'dispute', 'probably', 'family', 'dispute', 'fact', 'dispute', 'west', 'bengal', 'form', 'high', 'court', 'form', 'na', 'j', 'form', 'heading', 'deposition', 'court', 'addl', 'sessions', 'judge', 'fast', 'track', 'court', 'kalna', 'dist', 'burdvvan', 'sessions', 'case', 'sessions', 'trial', 'present', 'ld', 'sudipta', 'bhattacharjee', 'addl', 'dist', 'sessions', 'judge', 'f', 'c', 'kalna', 'deposition', 'witness', 'prosecution', 'taken', 'oath', 'solemn', 'affirmation', 'day', 'march', 'name', 'dolena', 'bibi', 'son', 'wife', 'noor', 'md', 'sk', 'reside', 'ramkrishna', 'pur', 'age', 'years', 'police', 'station', 'purbasthali', 'district', 'burdwan', 'occupation', 'house', 'wife', 'sonehar', 'bibi', 'daughter', 'given', 'marriage', 'accused', 'jamir', 'sk', 'years', 'ago', 'marriage', 'used', 'reside', 'matrimonial', 'home', 'wed', 'lock', 'gave', 'birth', 'one', 'son', 'three', 'daughters', 'daughter', 'died', 'due', 'burning', 'years', 'ago', 'present', 'children', 'daughter', 'residing', 'accused', 'jamir', 'sk', 'subjected', 'torture', 'matrimonial', 'home', 'however', 'resided', 'matrimonial', 'home', 'know', 'accused', 'persons', 'three', 'accused', 'persons', 'present', 'court', 'id', 'dock', 'accused', 'persons', 'present', 'court', 'could', 'identified', 'cross', 'examination', 'behalf', 'accused', 'persons', 'fact', 'subjected', 'torture', 'matrimonial', 'home', 'caught', 'fire', 'hile', 'cooking', 'dispute', 'related', 'domestic', 'affairs', 'less', 'happy', 'matrimonial', 'home', 'west', 'bengal', 'form', 'high', 'court', 'form', 'j', 'form', 'heading', 'deposition', 'court', 'addl', 'sessions', 'judge', 'fast', 'track', 'court', 'kalna', 'dist', 'burdwan', 'sessions', 'case', 'sessions', 'trial', 'present', 'ld', 'sudipta', 'bhattacharjee', 'addl', 'dist', 'sessions', 'judge', 'f', 'c', 'kalna', 'deposition', 'witness', 'prosecution', 'taken', 'oath', 'solemn', 'affirmatio', 'day', 'march', 'name', 'naimuddin', 'mondal', 'son', 'wife', 'mossafar', 'mondal', 'reside', 'ramkrishna', 'pur', 'age', 'years', 'police', 'station', 'purbasthali', 'district', 'burdwan', 'occupation', 'cultivation', 'know', 'noor', 'md', 'sk', 'daughter', 'sonerhar', 'bibi', 'married', 'jamir', 'sk', 'misbapur', 'village', 'years', 'ago', 'marriage', 'used', 'reside', 'matrimonial', 'home', 'gave', 'birth', 'three', 'daughters', 'one', 'son', 'residing', 'father', 'house', 'sonerhar', 'bibi', 'died', 'matrimonial', 'home', 'due', 'burn', 'injury', 'receiving', 'burn', 'injury', 'admitted', 'hospital', 'sent', 'matrimonial', 'home', 'died', 'cross', 'examination', 'behalf', 'accused', 'persons', 'declined']\n"
          ],
          "name": "stdout"
        }
      ]
    },
    {
      "cell_type": "code",
      "metadata": {
        "id": "y0yMbZjT9tdF",
        "colab_type": "code",
        "outputId": "fe28b8ca-00c4-4c44-d26a-7e0308b26179",
        "colab": {
          "base_uri": "https://localhost:8080/",
          "height": 87
        }
      },
      "source": [
        "#Lemmatizing\n",
        "nltk.download('wordnet')\n",
        "result_l=[]\n",
        "wl=WordNetLemmatizer()\n",
        "for i in result_sw:\n",
        "    res=wl.lemmatize(i)\n",
        "    result_l.append(res)\n",
        "print(result_l)"
      ],
      "execution_count": 0,
      "outputs": [
        {
          "output_type": "stream",
          "text": [
            "[nltk_data] Downloading package wordnet to /root/nltk_data...\n",
            "[nltk_data]   Unzipping corpora/wordnet.zip.\n",
            "['west', 'bengal', 'form', 'high', 'court', 'form', 'nov', 'form', 'heading', 'deposition', 'court', 'addl', 'session', 'judge', 'fast', 'track', 'court', 'kalna', 'dist', 'burdwan', 'present', 'ld', 'sudipta', 'bhattacharjee', 'addl', 'dist', 'session', 'judge', 'f', 'c', 'kalna', 'deposition', 'witness', 'prosecution', 'taken', 'oath', 'solemn', 'affirmation', 'day', 'march', 'name', 'noor', 'mahamad', 'sk', 'son', 'wife', 'late', 'sajahan', 'sk', 'reside', 'ramkrishnapur', 'age', 'year', 'police', 'station', 'purbasthali', 'district', 'burdwan', 'occupation', 'day', 'labour', 'sonerhar', 'bibi', 'daughter', 'world', 'given', 'marriage', 'jamir', 'sk', 'year', 'ago', 'marriage', 'went', 'matrimonial', 'home', 'started', 'residing', 'husband', 'law', 'leading', 'matrimonial', 'life', 'gave', 'birth', 'son', 'daughter', 'aged', 'year', 'year', 'respectively', 'died', 'matrimonial', 'home', 'due', 'burning', 'around', 'year', 'ago', 'one', 'day', 'morning', 'came', 'know', 'villager', 'accused', 'person', 'set', 'fire', 'upon', 'daughter', 'admitted', 'protapnagar', 'hospital', 'referred', 'saktinagar', 'hospital', 'nadia', 'treatment', 'ultimately', 'came', 'back', 'hospital', 'treatment', 'thereafter', 'died', 'matrimonial', 'home', 'due', 'septisomia', 'incident', 'lodged', 'written', 'complaint', 'police', 'officer', 'purbasthali', 'p', 'written', 'sahad', 'ali', 'sk', 'put', 'l', 'written', 'complaint', 'accused', 'person', 'present', 'court', 'id', 'dock', 'cross', 'examination', 'behalf', 'accused', 'person', 'hearing', 'news', 'burning', 'upon', 'daughter', 'went', 'matrimonial', 'home', 'daughter', 'heard', 'caught', 'fire', 'cooking', 'know', 'died', 'daughter', 'used', 'live', 'matrimonial', 'home', 'child', 'law', 'heard', 'grievance', 'daughter', 'filed', 'case', 'per', 'direction', 'villager', 'stage', 'cannot', 'say', 'written', 'complaint', 'know', 'read', 'write', 'fact', 'lodged', 'complaint', 'fact', 'false', 'around', 'year', 'ago', 'one', 'day', 'morning', 'came', 'know', 'villager', 'accused', 'person', 'set', 'fire', 'upon', 'daughter', 'admitted', 'protapnagar', 'hospital', 'referred', 'saktinagar', 'hospital', 'nadia', 'treatment', 'west', 'bengal', 'form', 'high', 'court', 'form', 'nov', 'form', 'heading', 'deposition', 'court', 'addl', 'session', 'judge', 'fast', 'track', 'court', 'kalna', 'dist', 'burdwan', 'session', 'case', 'session', 'trial', 'present', 'ld', 'sudipta', 'bhattacharjee', 'addl', 'dist', 'session', 'judge', 'f', 'c', 'kalna', 'deposition', 'witness', 'prosecution', 'taken', 'oath', 'solemn', 'affirmation', 'day', 'march', 'name', 'badsha', 'sk', 'son', 'wife', 'ajaher', 'sk', 'reside', 'misbapur', 'age', 'year', 'police', 'station', 'purbasthali', 'district', 'burdwan', 'occupation', 'driver', 'know', 'jamir', 'sk', 'family', 'member', 'present', 'court', 'id', 'dock', 'around', 'year', 'ago', 'carried', 'soneher', 'bibi', 'burnt', 'condition', 'maruti', 'omne', 'van', 'protapnagar', 'hospital', 'treated', 'doctor', 'arrival', 'hospital', 'came', 'back', 'knew', 'soneher', 'bibi', 'child', 'know', 'accused', 'person', 'co', 'villager', 'cross', 'examination', 'behalf', 'accused', 'person', 'hospital', 'said', 'sonerher', 'bibi', 'told', 'doctor', 'caught', 'fire', 'cooking', 'anything', 'incident', 'west', 'bengal', 'form', 'high', 'court', 'form', 'j', 'form', 'heading', 'deposition', 'court', 'addl', 'session', 'judge', 'fast', 'track', 'court', 'kalna', 'dist', 'burdwan', 'session', 'ase', 'session', 'trial', 'present', 'ld', 'sudipta', 'bhattacharjee', 'addl', 'dist', 'session', 'judge', 'f', 'c', 'kalna', 'deposition', 'witness', 'prosecution', 'taken', 'oath', 'solemn', 'affirmation', 'day', 'march', 'name', 'sarafat', 'sk', 'son', 'wife', 'late', 'tabjal', 'sk', 'reside', 'atpara', 'lakshipur', 'age', 'year', 'police', 'station', 'purbasthali', 'district', 'burdwan', 'occupation', 'business', 'know', 'noor', 'mahamad', 'sk', 'per', 'dictation', 'wrote', 'complaint', 'put', 'signature', 'complaint', 'said', 'noor', 'mahamad', 'sk', 'also', 'put', 'l', 'complaint', 'people', 'also', 'time', 'writing', 'complaint', 'complainant', 'stated', 'wrote', 'cry', 'time', 'tendering', 'written', 'complaint', 'written', 'complaint', 'written', 'let', 'kwritten', 'complaint', 'marked', 'ext', 'cross', 'examination', 'behalf', 'accused', 'person', 'personal', 'knowledge', 'incident', 'west', 'bengal', 'form', 'high', 'court', 'form', 'j', 'form', 'heading', 'deposition', 'court', 'addl', 'session', 'judge', 'fast', 'track', 'court', 'kalna', 'dist', 'burdwan', 'session', 'case', 'session', 'trial', 'present', 'ld', 'sudipta', 'bhattacharjee', 'addl', 'dist', 'session', 'judge', 'f', 'c', 'kaina', 'deposition', 'witness', 'prosecution', 'day', 'march', 'name', 'anisur', 'rahaman', 'sk', 'son', 'wife', 'late', 'obed', 'sk', 'reside', 'misbapur', 'police', 'station', 'purbasthali', 'occupation', 'cultivation', 'taken', 'oath', 'solemn', 'affirmation', 'age', 'year', 'district', 'burdwan', 'around', 'year', 'ago', 'wife', 'accused', 'jamir', 'sk', 'died', 'due', 'burn', 'injury', 'time', 'incident', 'agricultural', 'field', 'accused', 'person', 'co', 'villager', 'present', 'court', 'id', 'dock', 'know', 'sustained', 'burn', 'injury', 'know', 'name', 'wife', 'accused', 'cross', 'examination', 'defence', 'behalf', 'accused', 'person', 'declined', 'west', 'bengal', 'form', 'high', 'court', 'form', 'form', 'heading', 'deposition', 'court', 'addl', 'session', 'judge', 'fast', 'track', 'court', 'kalna', 'dist', 'burdwan', 'session', 'case', 'session', 'trial', 'present', 'ld', 'sudipta', 'bhattacharjee', 'addl', 'dist', 'session', 'judge', 'f', 'c', 'kalna', 'deposition', 'witness', 'prosecution', 'taken', 'oath', 'solemn', 'affirmation', 'day', 'march', 'name', 'samsur', 'sk', 'son', 'wife', 'late', 'mohir', 'sk', 'reside', 'misbapur', 'age', 'year', 'police', 'station', 'purbasthali', 'district', 'burdwan', 'occupation', 'day', 'labour', 'accused', 'person', 'co', 'villager', 'present', 'court', 'id', 'dock', 'jamiar', 'sk', 'accused', 'co', 'villager', 'married', 'daughter', 'noor', 'md', 'sk', 'year', 'ago', 'died', 'due', 'burn', 'injury', 'know', 'received', 'burn', 'injury', 'cross', 'examination', 'defence', 'behalf', 'accused', 'person', 'declined', 'west', 'bengal', 'form', 'high', 'court', 'form', 'j', 'form', 'heading', 'deposition', 'court', 'addl', 'session', 'judge', 'fast', 'track', 'court', 'kalna', 'dist', 'burdwan', 'session', 'case', 'session', 'trial', 'present', 'ld', 'sudipta', 'bhattacharjee', 'addl', 'dist', 'session', 'judge', 'f', 'c', 'kalna', 'deposition', 'witness', 'prosecution', 'taken', 'oath', 'solemn', 'affirmation', 'day', 'march', 'name', 'moshruf', 'mondal', 'son', 'wife', 'late', 'doyem', 'mondal', 'reside', 'misbapur', 'age', 'year', 'police', 'station', 'purbasthali', 'district', 'burdwan', 'occupation', 'cultivation', 'know', 'accused', 'jamir', 'sk', 'know', 'accused', 'person', 'relative', 'accused', 'jamir', 'sk', 'know', 'accused', 'person', 'present', 'court', 'id', 'dock', 'jamir', 'sk', 'married', 'daughter', 'noor', 'md', 'sk', 'village', 'ramkrishnapur', 'led', 'year', 'matrimonial', 'life', 'matrimonial', 'home', 'year', 'ago', 'wife', 'jamir', 'sk', 'died', 'matrimonial', 'home', 'due', 'burn', 'injury', 'know', 'sustained', 'burn', 'injury', 'three', 'four', 'child', 'cross', 'examination', 'defence', 'behalf', 'accused', 'person', 'declined', 'west', 'bengal', 'form', 'court', 'addl', 'session', 'judge', 'fast', 'track', 'court', 'kalna', 'dist', 'burdwan', 'session', 'case', 'session', 'trial', 'present', 'ld', 'sudipta', 'bhattacharjee', 'addl', 'dist', 'session', 'judge', 'f', 'c', 'kalna', 'deposition', 'witness', 'prosecution', 'taken', 'oath', 'solemn', 'affirmation', 'day', 'march', 'name', 'morshed', 'sk', 'son', 'wife', 'samsur', 'sk', 'reside', 'misbapur', 'age', 'year', 'police', 'station', 'purbasthali', 'district', 'burdwan', 'occupation', 'cultivation', 'know', 'accused', 'jamir', 'sk', 'also', 'knew', 'wife', 'jamir', 'sk', 'year', 'ago', 'jamir', 'sk', 'married', 'sonerhar', 'bibi', 'three', 'child', 'residing', 'jamir', 'sk', 'around', 'year', 'ago', 'sonerhar', 'bibi', 'died', 'due', 'burn', 'injury', 'dispute', 'however', 'died', 'due', 'burn', 'matrimonial', 'home', 'cross', 'examination', 'behalf', 'accused', 'person', 'sonerhar', 'bibi', 'caught', 'fire', 'cooking', 'know', 'type', 'dispute', 'probably', 'family', 'dispute', 'fact', 'dispute', 'west', 'bengal', 'form', 'high', 'court', 'form', 'na', 'j', 'form', 'heading', 'deposition', 'court', 'addl', 'session', 'judge', 'fast', 'track', 'court', 'kalna', 'dist', 'burdvvan', 'session', 'case', 'session', 'trial', 'present', 'ld', 'sudipta', 'bhattacharjee', 'addl', 'dist', 'session', 'judge', 'f', 'c', 'kalna', 'deposition', 'witness', 'prosecution', 'taken', 'oath', 'solemn', 'affirmation', 'day', 'march', 'name', 'dolena', 'bibi', 'son', 'wife', 'noor', 'md', 'sk', 'reside', 'ramkrishna', 'pur', 'age', 'year', 'police', 'station', 'purbasthali', 'district', 'burdwan', 'occupation', 'house', 'wife', 'sonehar', 'bibi', 'daughter', 'given', 'marriage', 'accused', 'jamir', 'sk', 'year', 'ago', 'marriage', 'used', 'reside', 'matrimonial', 'home', 'wed', 'lock', 'gave', 'birth', 'one', 'son', 'three', 'daughter', 'daughter', 'died', 'due', 'burning', 'year', 'ago', 'present', 'child', 'daughter', 'residing', 'accused', 'jamir', 'sk', 'subjected', 'torture', 'matrimonial', 'home', 'however', 'resided', 'matrimonial', 'home', 'know', 'accused', 'person', 'three', 'accused', 'person', 'present', 'court', 'id', 'dock', 'accused', 'person', 'present', 'court', 'could', 'identified', 'cross', 'examination', 'behalf', 'accused', 'person', 'fact', 'subjected', 'torture', 'matrimonial', 'home', 'caught', 'fire', 'hile', 'cooking', 'dispute', 'related', 'domestic', 'affair', 'le', 'happy', 'matrimonial', 'home', 'west', 'bengal', 'form', 'high', 'court', 'form', 'j', 'form', 'heading', 'deposition', 'court', 'addl', 'session', 'judge', 'fast', 'track', 'court', 'kalna', 'dist', 'burdwan', 'session', 'case', 'session', 'trial', 'present', 'ld', 'sudipta', 'bhattacharjee', 'addl', 'dist', 'session', 'judge', 'f', 'c', 'kalna', 'deposition', 'witness', 'prosecution', 'taken', 'oath', 'solemn', 'affirmatio', 'day', 'march', 'name', 'naimuddin', 'mondal', 'son', 'wife', 'mossafar', 'mondal', 'reside', 'ramkrishna', 'pur', 'age', 'year', 'police', 'station', 'purbasthali', 'district', 'burdwan', 'occupation', 'cultivation', 'know', 'noor', 'md', 'sk', 'daughter', 'sonerhar', 'bibi', 'married', 'jamir', 'sk', 'misbapur', 'village', 'year', 'ago', 'marriage', 'used', 'reside', 'matrimonial', 'home', 'gave', 'birth', 'three', 'daughter', 'one', 'son', 'residing', 'father', 'house', 'sonerhar', 'bibi', 'died', 'matrimonial', 'home', 'due', 'burn', 'injury', 'receiving', 'burn', 'injury', 'admitted', 'hospital', 'sent', 'matrimonial', 'home', 'died', 'cross', 'examination', 'behalf', 'accused', 'person', 'declined']\n"
          ],
          "name": "stdout"
        }
      ]
    },
    {
      "cell_type": "code",
      "metadata": {
        "id": "-y1wVaUc9tgU",
        "colab_type": "code",
        "outputId": "ce82eb22-1798-4d90-b0b0-6668332bb93e",
        "colab": {
          "base_uri": "https://localhost:8080/",
          "height": 53
        }
      },
      "source": [
        "#len(result_new)\n",
        "#Stemming\n",
        "result_s=[]\n",
        "ps=PorterStemmer()\n",
        "for i in result_sw:\n",
        "  res=ps.stem(i)\n",
        "  result_s.append(res)\n",
        "print(result_s)"
      ],
      "execution_count": 0,
      "outputs": [
        {
          "output_type": "stream",
          "text": [
            "['west', 'bengal', 'form', 'high', 'court', 'form', 'nov', 'form', 'head', 'deposit', 'court', 'addl', 'session', 'judg', 'fast', 'track', 'court', 'kalna', 'dist', 'burdwan', 'present', 'ld', 'sudipta', 'bhattacharje', 'addl', 'dist', 'session', 'judg', 'f', 'c', 'kalna', 'deposit', 'wit', 'prosecut', 'taken', 'oath', 'solemn', 'affirm', 'day', 'march', 'name', 'noor', 'mahamad', 'sk', 'son', 'wife', 'late', 'sajahan', 'sk', 'resid', 'ramkrishnapur', 'age', 'year', 'polic', 'station', 'purbasthali', 'district', 'burdwan', 'occup', 'day', 'labour', 'sonerhar', 'bibi', 'daughter', 'world', 'given', 'marriag', 'jamir', 'sk', 'year', 'ago', 'marriag', 'went', 'matrimoni', 'home', 'start', 'resid', 'husband', 'law', 'lead', 'matrimoni', 'life', 'gave', 'birth', 'son', 'daughter', 'age', 'year', 'year', 'respect', 'die', 'matrimoni', 'home', 'due', 'burn', 'around', 'year', 'ago', 'one', 'day', 'morn', 'came', 'know', 'villag', 'accus', 'person', 'set', 'fire', 'upon', 'daughter', 'admit', 'protapnagar', 'hospit', 'refer', 'saktinagar', 'hospit', 'nadia', 'treatment', 'ultim', 'came', 'back', 'hospit', 'treatment', 'thereaft', 'die', 'matrimoni', 'home', 'due', 'septisomia', 'incid', 'lodg', 'written', 'complaint', 'polic', 'offic', 'purbasthali', 'p', 'written', 'sahad', 'ali', 'sk', 'put', 'l', 'written', 'complaint', 'accus', 'person', 'present', 'court', 'id', 'dock', 'cross', 'examin', 'behalf', 'accus', 'person', 'hear', 'news', 'burn', 'upon', 'daughter', 'went', 'matrimoni', 'home', 'daughter', 'heard', 'caught', 'fire', 'cook', 'know', 'die', 'daughter', 'use', 'live', 'matrimoni', 'home', 'children', 'law', 'heard', 'grievanc', 'daughter', 'file', 'case', 'per', 'direct', 'villag', 'stage', 'cannot', 'say', 'written', 'complaint', 'know', 'read', 'write', 'fact', 'lodg', 'complaint', 'fact', 'fals', 'around', 'year', 'ago', 'one', 'day', 'morn', 'came', 'know', 'villag', 'accus', 'person', 'set', 'fire', 'upon', 'daughter', 'admit', 'protapnagar', 'hospit', 'refer', 'saktinagar', 'hospit', 'nadia', 'treatment', 'west', 'bengal', 'form', 'high', 'court', 'form', 'nov', 'form', 'head', 'deposit', 'court', 'addl', 'session', 'judg', 'fast', 'track', 'court', 'kalna', 'dist', 'burdwan', 'session', 'case', 'session', 'trial', 'present', 'ld', 'sudipta', 'bhattacharje', 'addl', 'dist', 'session', 'judg', 'f', 'c', 'kalna', 'deposit', 'wit', 'prosecut', 'taken', 'oath', 'solemn', 'affirm', 'day', 'march', 'name', 'badsha', 'sk', 'son', 'wife', 'ajah', 'sk', 'resid', 'misbapur', 'age', 'year', 'polic', 'station', 'purbasthali', 'district', 'burdwan', 'occup', 'driver', 'know', 'jamir', 'sk', 'famili', 'member', 'present', 'court', 'id', 'dock', 'around', 'year', 'ago', 'carri', 'soneh', 'bibi', 'burnt', 'condit', 'maruti', 'omn', 'van', 'protapnagar', 'hospit', 'treat', 'doctor', 'arriv', 'hospit', 'came', 'back', 'knew', 'soneh', 'bibi', 'children', 'know', 'accus', 'person', 'co', 'villag', 'cross', 'examin', 'behalf', 'accus', 'person', 'hospit', 'said', 'sonerh', 'bibi', 'told', 'doctor', 'caught', 'fire', 'cook', 'anyth', 'incid', 'west', 'bengal', 'form', 'high', 'court', 'form', 'j', 'form', 'head', 'deposit', 'court', 'addl', 'session', 'judg', 'fast', 'track', 'court', 'kalna', 'dist', 'burdwan', 'session', 'ase', 'session', 'trial', 'present', 'ld', 'sudipta', 'bhattacharje', 'addl', 'dist', 'session', 'judg', 'f', 'c', 'kalna', 'deposit', 'wit', 'prosecut', 'taken', 'oath', 'solemn', 'affirm', 'day', 'march', 'name', 'sarafat', 'sk', 'son', 'wife', 'late', 'tabjal', 'sk', 'resid', 'atpara', 'lakshipur', 'age', 'year', 'polic', 'station', 'purbasthali', 'district', 'burdwan', 'occup', 'busi', 'know', 'noor', 'mahamad', 'sk', 'per', 'dictat', 'wrote', 'complaint', 'put', 'signatur', 'complaint', 'said', 'noor', 'mahamad', 'sk', 'also', 'put', 'l', 'complaint', 'peopl', 'also', 'time', 'write', 'complaint', 'complain', 'state', 'wrote', 'cri', 'time', 'tender', 'written', 'complaint', 'written', 'complaint', 'written', 'let', 'kwritten', 'complaint', 'mark', 'ext', 'cross', 'examin', 'behalf', 'accus', 'person', 'person', 'knowledg', 'incid', 'west', 'bengal', 'form', 'high', 'court', 'form', 'j', 'form', 'head', 'deposit', 'court', 'addl', 'session', 'judg', 'fast', 'track', 'court', 'kalna', 'dist', 'burdwan', 'session', 'case', 'session', 'trial', 'present', 'ld', 'sudipta', 'bhattacharje', 'addl', 'dist', 'session', 'judg', 'f', 'c', 'kaina', 'deposit', 'wit', 'prosecut', 'day', 'march', 'name', 'anisur', 'rahaman', 'sk', 'son', 'wife', 'late', 'obe', 'sk', 'resid', 'misbapur', 'polic', 'station', 'purbasthali', 'occup', 'cultiv', 'taken', 'oath', 'solemn', 'affirm', 'age', 'year', 'district', 'burdwan', 'around', 'year', 'ago', 'wife', 'accus', 'jamir', 'sk', 'die', 'due', 'burn', 'injuri', 'time', 'incid', 'agricultur', 'field', 'accus', 'person', 'co', 'villag', 'present', 'court', 'id', 'dock', 'know', 'sustain', 'burn', 'injuri', 'know', 'name', 'wife', 'accus', 'cross', 'examin', 'defenc', 'behalf', 'accus', 'person', 'declin', 'west', 'bengal', 'form', 'high', 'court', 'form', 'form', 'head', 'deposit', 'court', 'addl', 'session', 'judg', 'fast', 'track', 'court', 'kalna', 'dist', 'burdwan', 'session', 'case', 'session', 'trial', 'present', 'ld', 'sudipta', 'bhattacharje', 'addl', 'dist', 'session', 'judg', 'f', 'c', 'kalna', 'deposit', 'wit', 'prosecut', 'taken', 'oath', 'solemn', 'affirm', 'day', 'march', 'name', 'samsur', 'sk', 'son', 'wife', 'late', 'mohir', 'sk', 'resid', 'misbapur', 'age', 'year', 'polic', 'station', 'purbasthali', 'district', 'burdwan', 'occup', 'day', 'labour', 'accus', 'person', 'co', 'villag', 'present', 'court', 'id', 'dock', 'jamiar', 'sk', 'accus', 'co', 'villag', 'marri', 'daughter', 'noor', 'md', 'sk', 'year', 'ago', 'die', 'due', 'burn', 'injuri', 'know', 'receiv', 'burn', 'injuri', 'cross', 'examin', 'defenc', 'behalf', 'accus', 'person', 'declin', 'west', 'bengal', 'form', 'high', 'court', 'form', 'j', 'form', 'head', 'deposit', 'court', 'addl', 'session', 'judg', 'fast', 'track', 'court', 'kalna', 'dist', 'burdwan', 'session', 'case', 'session', 'trial', 'present', 'ld', 'sudipta', 'bhattacharje', 'addl', 'dist', 'session', 'judg', 'f', 'c', 'kalna', 'deposit', 'wit', 'prosecut', 'taken', 'oath', 'solemn', 'affirm', 'day', 'march', 'name', 'moshruf', 'mondal', 'son', 'wife', 'late', 'doyem', 'mondal', 'resid', 'misbapur', 'age', 'year', 'polic', 'station', 'purbasthali', 'district', 'burdwan', 'occup', 'cultiv', 'know', 'accus', 'jamir', 'sk', 'know', 'accus', 'person', 'rel', 'accus', 'jamir', 'sk', 'know', 'accus', 'person', 'present', 'court', 'id', 'dock', 'jamir', 'sk', 'marri', 'daughter', 'noor', 'md', 'sk', 'villag', 'ramkrishnapur', 'led', 'year', 'matrimoni', 'life', 'matrimoni', 'home', 'year', 'ago', 'wife', 'jamir', 'sk', 'die', 'matrimoni', 'home', 'due', 'burn', 'injuri', 'know', 'sustain', 'burn', 'injuri', 'three', 'four', 'children', 'cross', 'examin', 'defenc', 'behalf', 'accus', 'person', 'declin', 'west', 'bengal', 'form', 'court', 'addl', 'session', 'judg', 'fast', 'track', 'court', 'kalna', 'dist', 'burdwan', 'session', 'case', 'session', 'trial', 'present', 'ld', 'sudipta', 'bhattacharje', 'addl', 'dist', 'session', 'judg', 'f', 'c', 'kalna', 'deposit', 'wit', 'prosecut', 'taken', 'oath', 'solemn', 'affirm', 'day', 'march', 'name', 'morsh', 'sk', 'son', 'wife', 'samsur', 'sk', 'resid', 'misbapur', 'age', 'year', 'polic', 'station', 'purbasthali', 'district', 'burdwan', 'occup', 'cultiv', 'know', 'accus', 'jamir', 'sk', 'also', 'knew', 'wife', 'jamir', 'sk', 'year', 'ago', 'jamir', 'sk', 'marri', 'sonerhar', 'bibi', 'three', 'children', 'resid', 'jamir', 'sk', 'around', 'year', 'ago', 'sonerhar', 'bibi', 'die', 'due', 'burn', 'injuri', 'disput', 'howev', 'die', 'due', 'burn', 'matrimoni', 'home', 'cross', 'examin', 'behalf', 'accus', 'person', 'sonerhar', 'bibi', 'caught', 'fire', 'cook', 'know', 'type', 'disput', 'probabl', 'famili', 'disput', 'fact', 'disput', 'west', 'bengal', 'form', 'high', 'court', 'form', 'na', 'j', 'form', 'head', 'deposit', 'court', 'addl', 'session', 'judg', 'fast', 'track', 'court', 'kalna', 'dist', 'burdvvan', 'session', 'case', 'session', 'trial', 'present', 'ld', 'sudipta', 'bhattacharje', 'addl', 'dist', 'session', 'judg', 'f', 'c', 'kalna', 'deposit', 'wit', 'prosecut', 'taken', 'oath', 'solemn', 'affirm', 'day', 'march', 'name', 'dolena', 'bibi', 'son', 'wife', 'noor', 'md', 'sk', 'resid', 'ramkrishna', 'pur', 'age', 'year', 'polic', 'station', 'purbasthali', 'district', 'burdwan', 'occup', 'hous', 'wife', 'sonehar', 'bibi', 'daughter', 'given', 'marriag', 'accus', 'jamir', 'sk', 'year', 'ago', 'marriag', 'use', 'resid', 'matrimoni', 'home', 'wed', 'lock', 'gave', 'birth', 'one', 'son', 'three', 'daughter', 'daughter', 'die', 'due', 'burn', 'year', 'ago', 'present', 'children', 'daughter', 'resid', 'accus', 'jamir', 'sk', 'subject', 'tortur', 'matrimoni', 'home', 'howev', 'resid', 'matrimoni', 'home', 'know', 'accus', 'person', 'three', 'accus', 'person', 'present', 'court', 'id', 'dock', 'accus', 'person', 'present', 'court', 'could', 'identifi', 'cross', 'examin', 'behalf', 'accus', 'person', 'fact', 'subject', 'tortur', 'matrimoni', 'home', 'caught', 'fire', 'hile', 'cook', 'disput', 'relat', 'domest', 'affair', 'less', 'happi', 'matrimoni', 'home', 'west', 'bengal', 'form', 'high', 'court', 'form', 'j', 'form', 'head', 'deposit', 'court', 'addl', 'session', 'judg', 'fast', 'track', 'court', 'kalna', 'dist', 'burdwan', 'session', 'case', 'session', 'trial', 'present', 'ld', 'sudipta', 'bhattacharje', 'addl', 'dist', 'session', 'judg', 'f', 'c', 'kalna', 'deposit', 'wit', 'prosecut', 'taken', 'oath', 'solemn', 'affirmatio', 'day', 'march', 'name', 'naimuddin', 'mondal', 'son', 'wife', 'mossafar', 'mondal', 'resid', 'ramkrishna', 'pur', 'age', 'year', 'polic', 'station', 'purbasthali', 'district', 'burdwan', 'occup', 'cultiv', 'know', 'noor', 'md', 'sk', 'daughter', 'sonerhar', 'bibi', 'marri', 'jamir', 'sk', 'misbapur', 'villag', 'year', 'ago', 'marriag', 'use', 'resid', 'matrimoni', 'home', 'gave', 'birth', 'three', 'daughter', 'one', 'son', 'resid', 'father', 'hous', 'sonerhar', 'bibi', 'die', 'matrimoni', 'home', 'due', 'burn', 'injuri', 'receiv', 'burn', 'injuri', 'admit', 'hospit', 'sent', 'matrimoni', 'home', 'die', 'cross', 'examin', 'behalf', 'accus', 'person', 'declin']\n"
          ],
          "name": "stdout"
        }
      ]
    },
    {
      "cell_type": "code",
      "metadata": {
        "id": "4z5y6TrB9the",
        "colab_type": "code",
        "colab": {}
      },
      "source": [
        "fd=nltk.FreqDist(result_s)"
      ],
      "execution_count": 0,
      "outputs": []
    },
    {
      "cell_type": "code",
      "metadata": {
        "id": "eoqx0LUOc7zI",
        "colab_type": "code",
        "colab": {}
      },
      "source": [
        "for x, y in fd.items():\n",
        "  print(x, y)"
      ],
      "execution_count": 0,
      "outputs": []
    },
    {
      "cell_type": "code",
      "metadata": {
        "id": "ST5Bq0ZE-cZq",
        "colab_type": "code",
        "colab": {}
      },
      "source": [
        "k=fd.keys()\n",
        "v=fd.values()"
      ],
      "execution_count": 0,
      "outputs": []
    },
    {
      "cell_type": "code",
      "metadata": {
        "id": "8FV4ZB34_cG4",
        "colab_type": "code",
        "colab": {}
      },
      "source": [
        "#Fetching Value\n",
        "#list(k)[0]"
      ],
      "execution_count": 0,
      "outputs": []
    },
    {
      "cell_type": "code",
      "metadata": {
        "id": "loErmhZyEOx1",
        "colab_type": "code",
        "outputId": "8d9aaa39-dc8f-4905-8ab2-1ba64f64a232",
        "colab": {
          "base_uri": "https://localhost:8080/",
          "height": 1000
        }
      },
      "source": [
        "with open('TermFreq.txt', 'w') as f:\n",
        "   f.write(\"WORDS\\t\\t\\tTF\\n\")\n",
        "   for i in range(len(k)):\n",
        "     f.write(\"%s\"%list(k)[i])\n",
        "     f.write(\"\\t\\t\\t\")\n",
        "     f.write(\"%s\"%list(v)[i])\n",
        "     f.write(\"\\n\")\n",
        "\n",
        "#Openining file\n",
        "#with open('TermFreq.txt', 'r') as f:\n",
        "#   content = f.readlines()\n",
        "\n",
        "#Printing content of file\n",
        "#for line in content:\n",
        "#   print(line)"
      ],
      "execution_count": 0,
      "outputs": [
        {
          "output_type": "stream",
          "text": [
            "WORDS\t\t\tTF\n",
            "\n",
            "west\t\t\t9\n",
            "\n",
            "bengal\t\t\t9\n",
            "\n",
            "form\t\t\t25\n",
            "\n",
            "high\t\t\t8\n",
            "\n",
            "court\t\t\t33\n",
            "\n",
            "nov\t\t\t2\n",
            "\n",
            "head\t\t\t8\n",
            "\n",
            "deposit\t\t\t17\n",
            "\n",
            "addl\t\t\t18\n",
            "\n",
            "session\t\t\t34\n",
            "\n",
            "judg\t\t\t18\n",
            "\n",
            "fast\t\t\t9\n",
            "\n",
            "track\t\t\t9\n",
            "\n",
            "kalna\t\t\t17\n",
            "\n",
            "dist\t\t\t18\n",
            "\n",
            "burdwan\t\t\t17\n",
            "\n",
            "present\t\t\t17\n",
            "\n",
            "ld\t\t\t9\n",
            "\n",
            "sudipta\t\t\t9\n",
            "\n",
            "bhattacharje\t\t\t9\n",
            "\n",
            "f\t\t\t9\n",
            "\n",
            "c\t\t\t9\n",
            "\n",
            "wit\t\t\t9\n",
            "\n",
            "prosecut\t\t\t9\n",
            "\n",
            "taken\t\t\t9\n",
            "\n",
            "oath\t\t\t9\n",
            "\n",
            "solemn\t\t\t9\n",
            "\n",
            "affirm\t\t\t8\n",
            "\n",
            "day\t\t\t13\n",
            "\n",
            "march\t\t\t9\n",
            "\n",
            "name\t\t\t10\n",
            "\n",
            "noor\t\t\t7\n",
            "\n",
            "mahamad\t\t\t3\n",
            "\n",
            "sk\t\t\t34\n",
            "\n",
            "son\t\t\t12\n",
            "\n",
            "wife\t\t\t14\n",
            "\n",
            "late\t\t\t5\n",
            "\n",
            "sajahan\t\t\t1\n",
            "\n",
            "resid\t\t\t16\n",
            "\n",
            "ramkrishnapur\t\t\t2\n",
            "\n",
            "age\t\t\t10\n",
            "\n",
            "year\t\t\t24\n",
            "\n",
            "polic\t\t\t10\n",
            "\n",
            "station\t\t\t9\n",
            "\n",
            "purbasthali\t\t\t10\n",
            "\n",
            "district\t\t\t9\n",
            "\n",
            "occup\t\t\t9\n",
            "\n",
            "labour\t\t\t2\n",
            "\n",
            "sonerhar\t\t\t6\n",
            "\n",
            "bibi\t\t\t11\n",
            "\n",
            "daughter\t\t\t16\n",
            "\n",
            "world\t\t\t1\n",
            "\n",
            "given\t\t\t2\n",
            "\n",
            "marriag\t\t\t5\n",
            "\n",
            "jamir\t\t\t14\n",
            "\n",
            "ago\t\t\t12\n",
            "\n",
            "went\t\t\t2\n",
            "\n",
            "matrimoni\t\t\t18\n",
            "\n",
            "home\t\t\t16\n",
            "\n",
            "start\t\t\t1\n",
            "\n",
            "husband\t\t\t1\n",
            "\n",
            "law\t\t\t2\n",
            "\n",
            "lead\t\t\t1\n",
            "\n",
            "life\t\t\t2\n",
            "\n",
            "gave\t\t\t3\n",
            "\n",
            "birth\t\t\t3\n",
            "\n",
            "respect\t\t\t1\n",
            "\n",
            "die\t\t\t11\n",
            "\n",
            "due\t\t\t9\n",
            "\n",
            "burn\t\t\t13\n",
            "\n",
            "around\t\t\t5\n",
            "\n",
            "one\t\t\t4\n",
            "\n",
            "morn\t\t\t2\n",
            "\n",
            "came\t\t\t4\n",
            "\n",
            "know\t\t\t18\n",
            "\n",
            "villag\t\t\t9\n",
            "\n",
            "accus\t\t\t28\n",
            "\n",
            "person\t\t\t21\n",
            "\n",
            "set\t\t\t2\n",
            "\n",
            "fire\t\t\t6\n",
            "\n",
            "upon\t\t\t3\n",
            "\n",
            "admit\t\t\t3\n",
            "\n",
            "protapnagar\t\t\t3\n",
            "\n",
            "hospit\t\t\t9\n",
            "\n",
            "refer\t\t\t2\n",
            "\n",
            "saktinagar\t\t\t2\n",
            "\n",
            "nadia\t\t\t2\n",
            "\n",
            "treatment\t\t\t3\n",
            "\n",
            "ultim\t\t\t1\n",
            "\n",
            "back\t\t\t2\n",
            "\n",
            "thereaft\t\t\t1\n",
            "\n",
            "septisomia\t\t\t1\n",
            "\n",
            "incid\t\t\t4\n",
            "\n",
            "lodg\t\t\t2\n",
            "\n",
            "written\t\t\t7\n",
            "\n",
            "complaint\t\t\t11\n",
            "\n",
            "offic\t\t\t1\n",
            "\n",
            "p\t\t\t1\n",
            "\n",
            "sahad\t\t\t1\n",
            "\n",
            "ali\t\t\t1\n",
            "\n",
            "put\t\t\t3\n",
            "\n",
            "l\t\t\t2\n",
            "\n",
            "id\t\t\t6\n",
            "\n",
            "dock\t\t\t6\n",
            "\n",
            "cross\t\t\t9\n",
            "\n",
            "examin\t\t\t9\n",
            "\n",
            "behalf\t\t\t9\n",
            "\n",
            "hear\t\t\t1\n",
            "\n",
            "news\t\t\t1\n",
            "\n",
            "heard\t\t\t2\n",
            "\n",
            "caught\t\t\t4\n",
            "\n",
            "cook\t\t\t4\n",
            "\n",
            "use\t\t\t3\n",
            "\n",
            "live\t\t\t1\n",
            "\n",
            "children\t\t\t5\n",
            "\n",
            "grievanc\t\t\t1\n",
            "\n",
            "file\t\t\t1\n",
            "\n",
            "case\t\t\t8\n",
            "\n",
            "per\t\t\t2\n",
            "\n",
            "direct\t\t\t1\n",
            "\n",
            "stage\t\t\t1\n",
            "\n",
            "cannot\t\t\t1\n",
            "\n",
            "say\t\t\t1\n",
            "\n",
            "read\t\t\t1\n",
            "\n",
            "write\t\t\t2\n",
            "\n",
            "fact\t\t\t4\n",
            "\n",
            "fals\t\t\t1\n",
            "\n",
            "trial\t\t\t8\n",
            "\n",
            "badsha\t\t\t1\n",
            "\n",
            "ajah\t\t\t1\n",
            "\n",
            "misbapur\t\t\t6\n",
            "\n",
            "driver\t\t\t1\n",
            "\n",
            "famili\t\t\t2\n",
            "\n",
            "member\t\t\t1\n",
            "\n",
            "carri\t\t\t1\n",
            "\n",
            "soneh\t\t\t2\n",
            "\n",
            "burnt\t\t\t1\n",
            "\n",
            "condit\t\t\t1\n",
            "\n",
            "maruti\t\t\t1\n",
            "\n",
            "omn\t\t\t1\n",
            "\n",
            "van\t\t\t1\n",
            "\n",
            "treat\t\t\t1\n",
            "\n",
            "doctor\t\t\t2\n",
            "\n",
            "arriv\t\t\t1\n",
            "\n",
            "knew\t\t\t2\n",
            "\n",
            "co\t\t\t4\n",
            "\n",
            "said\t\t\t2\n",
            "\n",
            "sonerh\t\t\t1\n",
            "\n",
            "told\t\t\t1\n",
            "\n",
            "anyth\t\t\t1\n",
            "\n",
            "j\t\t\t5\n",
            "\n",
            "ase\t\t\t1\n",
            "\n",
            "sarafat\t\t\t1\n",
            "\n",
            "tabjal\t\t\t1\n",
            "\n",
            "atpara\t\t\t1\n",
            "\n",
            "lakshipur\t\t\t1\n",
            "\n",
            "busi\t\t\t1\n",
            "\n",
            "dictat\t\t\t1\n",
            "\n",
            "wrote\t\t\t2\n",
            "\n",
            "signatur\t\t\t1\n",
            "\n",
            "also\t\t\t3\n",
            "\n",
            "peopl\t\t\t1\n",
            "\n",
            "time\t\t\t3\n",
            "\n",
            "complain\t\t\t1\n",
            "\n",
            "state\t\t\t1\n",
            "\n",
            "cri\t\t\t1\n",
            "\n",
            "tender\t\t\t1\n",
            "\n",
            "let\t\t\t1\n",
            "\n",
            "kwritten\t\t\t1\n",
            "\n",
            "mark\t\t\t1\n",
            "\n",
            "ext\t\t\t1\n",
            "\n",
            "knowledg\t\t\t1\n",
            "\n",
            "kaina\t\t\t1\n",
            "\n",
            "anisur\t\t\t1\n",
            "\n",
            "rahaman\t\t\t1\n",
            "\n",
            "obe\t\t\t1\n",
            "\n",
            "cultiv\t\t\t4\n",
            "\n",
            "injuri\t\t\t9\n",
            "\n",
            "agricultur\t\t\t1\n",
            "\n",
            "field\t\t\t1\n",
            "\n",
            "sustain\t\t\t2\n",
            "\n",
            "defenc\t\t\t3\n",
            "\n",
            "declin\t\t\t4\n",
            "\n",
            "samsur\t\t\t2\n",
            "\n",
            "mohir\t\t\t1\n",
            "\n",
            "jamiar\t\t\t1\n",
            "\n",
            "marri\t\t\t4\n",
            "\n",
            "md\t\t\t4\n",
            "\n",
            "receiv\t\t\t2\n",
            "\n",
            "moshruf\t\t\t1\n",
            "\n",
            "mondal\t\t\t4\n",
            "\n",
            "doyem\t\t\t1\n",
            "\n",
            "rel\t\t\t1\n",
            "\n",
            "led\t\t\t1\n",
            "\n",
            "three\t\t\t5\n",
            "\n",
            "four\t\t\t1\n",
            "\n",
            "morsh\t\t\t1\n",
            "\n",
            "disput\t\t\t5\n",
            "\n",
            "howev\t\t\t2\n",
            "\n",
            "type\t\t\t1\n",
            "\n",
            "probabl\t\t\t1\n",
            "\n",
            "na\t\t\t1\n",
            "\n",
            "burdvvan\t\t\t1\n",
            "\n",
            "dolena\t\t\t1\n",
            "\n",
            "ramkrishna\t\t\t2\n",
            "\n",
            "pur\t\t\t2\n",
            "\n",
            "hous\t\t\t2\n",
            "\n",
            "sonehar\t\t\t1\n",
            "\n",
            "wed\t\t\t1\n",
            "\n",
            "lock\t\t\t1\n",
            "\n",
            "subject\t\t\t2\n",
            "\n",
            "tortur\t\t\t2\n",
            "\n",
            "could\t\t\t1\n",
            "\n",
            "identifi\t\t\t1\n",
            "\n",
            "hile\t\t\t1\n",
            "\n",
            "relat\t\t\t1\n",
            "\n",
            "domest\t\t\t1\n",
            "\n",
            "affair\t\t\t1\n",
            "\n",
            "less\t\t\t1\n",
            "\n",
            "happi\t\t\t1\n",
            "\n",
            "affirmatio\t\t\t1\n",
            "\n",
            "naimuddin\t\t\t1\n",
            "\n",
            "mossafar\t\t\t1\n",
            "\n",
            "father\t\t\t1\n",
            "\n",
            "sent\t\t\t1\n",
            "\n"
          ],
          "name": "stdout"
        }
      ]
    },
    {
      "cell_type": "code",
      "metadata": {
        "id": "yPoQB42JIQQC",
        "colab_type": "code",
        "colab": {}
      },
      "source": [
        ""
      ],
      "execution_count": 0,
      "outputs": []
    }
  ]
}